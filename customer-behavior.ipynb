{
  "cells": [
    {
      "cell_type": "code",
      "execution_count": 41,
      "metadata": {},
      "outputs": [],
      "source": [
        "import pandas as pd\n",
        "import numpy as np\n",
        "import matplotlib.pyplot as plt\n",
        "from sklearn.model_selection import train_test_split\n",
        "import joblib\n",
        "\n",
        "random_state = 1117"
      ]
    },
    {
      "cell_type": "code",
      "execution_count": 42,
      "metadata": {
        "colab": {
          "base_uri": "https://localhost:8080/",
          "height": 365
        },
        "id": "SADyxeDawfsk",
        "outputId": "45625953-5cc0-4e8f-fec6-d323a0da3383"
      },
      "outputs": [
        {
          "data": {
            "text/plain": [
              "(3169996, 14)"
            ]
          },
          "execution_count": 42,
          "metadata": {},
          "output_type": "execute_result"
        }
      ],
      "source": [
        "try: # If you are running this notebook on your local machine\n",
        "  # Put the path to your CSV file here\n",
        "  file_name = \"./Customerbehavior_Final.csv\"\n",
        "  df = pd.read_csv(file_name, index_col=0, low_memory=False)\n",
        "except : # If you are running this notebook on Google Colab\n",
        "  from google.colab import drive\n",
        "  drive.mount('/content/drive')\n",
        "  # Put the path to your CSV file here\n",
        "  file_name = \"./drive/MyDrive/Data-IA/Customerbehavior_Final.csv\"\n",
        "  df = pd.read_csv(file_name, index_col=0, low_memory=False)\n",
        "\n",
        "df.shape"
      ]
    },
    {
      "cell_type": "code",
      "execution_count": 43,
      "metadata": {},
      "outputs": [
        {
          "data": {
            "text/html": [
              "<div>\n",
              "<style scoped>\n",
              "    .dataframe tbody tr th:only-of-type {\n",
              "        vertical-align: middle;\n",
              "    }\n",
              "\n",
              "    .dataframe tbody tr th {\n",
              "        vertical-align: top;\n",
              "    }\n",
              "\n",
              "    .dataframe thead th {\n",
              "        text-align: right;\n",
              "    }\n",
              "</style>\n",
              "<table border=\"1\" class=\"dataframe\">\n",
              "  <thead>\n",
              "    <tr style=\"text-align: right;\">\n",
              "      <th></th>\n",
              "      <th>StoreCode</th>\n",
              "      <th>BillCode</th>\n",
              "      <th>EnterTime</th>\n",
              "      <th>LeaveTime</th>\n",
              "      <th>BoxSize</th>\n",
              "      <th>MealType</th>\n",
              "      <th>OrderTime</th>\n",
              "      <th>MealSpending</th>\n",
              "      <th>BoxSpending</th>\n",
              "      <th>CustomerNumber</th>\n",
              "      <th>MaleNumber</th>\n",
              "      <th>FemaleNumber</th>\n",
              "      <th>Age</th>\n",
              "      <th>Membership</th>\n",
              "    </tr>\n",
              "  </thead>\n",
              "  <tbody>\n",
              "    <tr>\n",
              "      <th>0</th>\n",
              "      <td>107</td>\n",
              "      <td>1602010011</td>\n",
              "      <td>2016-02-01 00:49:00</td>\n",
              "      <td>2016-02-01 06:01:00</td>\n",
              "      <td>Small box</td>\n",
              "      <td>Light Meal</td>\n",
              "      <td>2016-02-01 01:04:13</td>\n",
              "      <td>114</td>\n",
              "      <td>2857</td>\n",
              "      <td>6</td>\n",
              "      <td>3</td>\n",
              "      <td>3</td>\n",
              "      <td>30~39</td>\n",
              "      <td>0</td>\n",
              "    </tr>\n",
              "    <tr>\n",
              "      <th>1</th>\n",
              "      <td>107</td>\n",
              "      <td>1602010011</td>\n",
              "      <td>2016-02-01 00:49:00</td>\n",
              "      <td>2016-02-01 06:01:00</td>\n",
              "      <td>Small box</td>\n",
              "      <td>Project Package</td>\n",
              "      <td>2016-02-01 01:43:29</td>\n",
              "      <td>380</td>\n",
              "      <td>2857</td>\n",
              "      <td>6</td>\n",
              "      <td>3</td>\n",
              "      <td>3</td>\n",
              "      <td>30~39</td>\n",
              "      <td>0</td>\n",
              "    </tr>\n",
              "    <tr>\n",
              "      <th>2</th>\n",
              "      <td>107</td>\n",
              "      <td>1602010011</td>\n",
              "      <td>2016-02-01 00:49:00</td>\n",
              "      <td>2016-02-01 06:01:00</td>\n",
              "      <td>Small box</td>\n",
              "      <td>Beer</td>\n",
              "      <td>2016-02-01 02:17:11</td>\n",
              "      <td>280</td>\n",
              "      <td>2857</td>\n",
              "      <td>6</td>\n",
              "      <td>3</td>\n",
              "      <td>3</td>\n",
              "      <td>30~39</td>\n",
              "      <td>0</td>\n",
              "    </tr>\n",
              "    <tr>\n",
              "      <th>3</th>\n",
              "      <td>107</td>\n",
              "      <td>1602010011</td>\n",
              "      <td>2016-02-01 00:49:00</td>\n",
              "      <td>2016-02-01 06:01:00</td>\n",
              "      <td>Small box</td>\n",
              "      <td>Beverages (not including wine)</td>\n",
              "      <td>2016-02-01 01:04:13</td>\n",
              "      <td>210</td>\n",
              "      <td>2857</td>\n",
              "      <td>6</td>\n",
              "      <td>3</td>\n",
              "      <td>3</td>\n",
              "      <td>30~39</td>\n",
              "      <td>0</td>\n",
              "    </tr>\n",
              "    <tr>\n",
              "      <th>4</th>\n",
              "      <td>107</td>\n",
              "      <td>1602010011</td>\n",
              "      <td>2016-02-01 00:49:00</td>\n",
              "      <td>2016-02-01 06:01:00</td>\n",
              "      <td>Small box</td>\n",
              "      <td>Fruit</td>\n",
              "      <td>2016-02-01 01:43:29</td>\n",
              "      <td>343</td>\n",
              "      <td>2857</td>\n",
              "      <td>6</td>\n",
              "      <td>3</td>\n",
              "      <td>3</td>\n",
              "      <td>30~39</td>\n",
              "      <td>0</td>\n",
              "    </tr>\n",
              "  </tbody>\n",
              "</table>\n",
              "</div>"
            ],
            "text/plain": [
              "  StoreCode    BillCode            EnterTime            LeaveTime    BoxSize  \\\n",
              "0       107  1602010011  2016-02-01 00:49:00  2016-02-01 06:01:00  Small box   \n",
              "1       107  1602010011  2016-02-01 00:49:00  2016-02-01 06:01:00  Small box   \n",
              "2       107  1602010011  2016-02-01 00:49:00  2016-02-01 06:01:00  Small box   \n",
              "3       107  1602010011  2016-02-01 00:49:00  2016-02-01 06:01:00  Small box   \n",
              "4       107  1602010011  2016-02-01 00:49:00  2016-02-01 06:01:00  Small box   \n",
              "\n",
              "                         MealType            OrderTime  MealSpending  \\\n",
              "0                      Light Meal  2016-02-01 01:04:13           114   \n",
              "1                 Project Package  2016-02-01 01:43:29           380   \n",
              "2                            Beer  2016-02-01 02:17:11           280   \n",
              "3  Beverages (not including wine)  2016-02-01 01:04:13           210   \n",
              "4                           Fruit  2016-02-01 01:43:29           343   \n",
              "\n",
              "   BoxSpending  CustomerNumber  MaleNumber  FemaleNumber    Age  Membership  \n",
              "0         2857               6           3             3  30~39           0  \n",
              "1         2857               6           3             3  30~39           0  \n",
              "2         2857               6           3             3  30~39           0  \n",
              "3         2857               6           3             3  30~39           0  \n",
              "4         2857               6           3             3  30~39           0  "
            ]
          },
          "execution_count": 43,
          "metadata": {},
          "output_type": "execute_result"
        }
      ],
      "source": [
        "df.head()"
      ]
    },
    {
      "cell_type": "markdown",
      "metadata": {
        "id": "fhC5mFgg9aQV"
      },
      "source": [
        "# Data preparation"
      ]
    },
    {
      "cell_type": "code",
      "execution_count": 44,
      "metadata": {
        "colab": {
          "base_uri": "https://localhost:8080/"
        },
        "id": "8zfdLCy4wfsl",
        "outputId": "b349990c-2048-4828-b2b7-16bb20e6c330"
      },
      "outputs": [
        {
          "data": {
            "text/plain": [
              "StoreCode         0\n",
              "BillCode          0\n",
              "EnterTime         0\n",
              "LeaveTime         0\n",
              "BoxSize           0\n",
              "MealType          0\n",
              "OrderTime         0\n",
              "MealSpending      0\n",
              "BoxSpending       0\n",
              "CustomerNumber    0\n",
              "MaleNumber        0\n",
              "FemaleNumber      0\n",
              "Age               0\n",
              "Membership        0\n",
              "dtype: int64"
            ]
          },
          "execution_count": 44,
          "metadata": {},
          "output_type": "execute_result"
        }
      ],
      "source": [
        "df.isnull().sum()"
      ]
    },
    {
      "cell_type": "markdown",
      "metadata": {
        "id": "U089AnKBwfsl"
      },
      "source": [
        "## Apply complete store name"
      ]
    },
    {
      "cell_type": "code",
      "execution_count": 45,
      "metadata": {
        "colab": {
          "base_uri": "https://localhost:8080/",
          "height": 347
        },
        "id": "Op-6qR1zwfsm",
        "outputId": "1f415c9b-ecca-4140-b68f-58f93c2655d3"
      },
      "outputs": [
        {
          "name": "stdout",
          "output_type": "stream",
          "text": [
            "StoreCode\n",
            "114     708661\n",
            "K01     593878\n",
            "107     573672\n",
            "108     456546\n",
            "0114    299265\n",
            "113     202004\n",
            "0107    179701\n",
            "112     156269\n",
            "Name: count, dtype: int64\n",
            "StoreCode\n",
            "114.0    1007926\n",
            "107.0     753373\n",
            "NaN       593878\n",
            "108.0     456546\n",
            "113.0     202004\n",
            "112.0     156269\n",
            "Name: count, dtype: int64\n",
            "StoreName\n",
            "Zhong Hua Xin dian    1007926\n",
            "SOGO Store             753373\n",
            "Lin Sheng              593878\n",
            "Tao Yuan               456546\n",
            "Kaohsiung              202004\n",
            "Jia yi                 156269\n",
            "Name: count, dtype: int64\n"
          ]
        }
      ],
      "source": [
        "def store_name(value):\n",
        "    if value == 107: return 'SOGO Store'\n",
        "    elif value == 108: return 'Tao Yuan'\n",
        "    elif value == 112: return 'Jia yi'\n",
        "    elif value == 113: return 'Kaohsiung'\n",
        "    elif value == 114: return 'Zhong Hua Xin dian'\n",
        "    else: return 'Lin Sheng'\n",
        "\n",
        "print(df[\"StoreCode\"].value_counts(dropna=False))\n",
        "\n",
        "df[\"StoreCode\"] = pd.to_numeric(df[\"StoreCode\"], errors='coerce')\n",
        "df['StoreName'] = df['StoreCode'].apply(store_name)\n",
        "\n",
        "print(df[\"StoreCode\"].value_counts(dropna=False))\n",
        "print(df[\"StoreName\"].value_counts(dropna=False))"
      ]
    },
    {
      "cell_type": "markdown",
      "metadata": {
        "id": "B6w9KybHwfsm"
      },
      "source": [
        "## Create UniqueID"
      ]
    },
    {
      "cell_type": "code",
      "execution_count": 46,
      "metadata": {
        "colab": {
          "base_uri": "https://localhost:8080/",
          "height": 347
        },
        "id": "xAmjUGN_wfsm",
        "outputId": "c3442c54-c75a-467b-d922-aaa6d5ac832e"
      },
      "outputs": [
        {
          "data": {
            "text/html": [
              "<div>\n",
              "<style scoped>\n",
              "    .dataframe tbody tr th:only-of-type {\n",
              "        vertical-align: middle;\n",
              "    }\n",
              "\n",
              "    .dataframe tbody tr th {\n",
              "        vertical-align: top;\n",
              "    }\n",
              "\n",
              "    .dataframe thead th {\n",
              "        text-align: right;\n",
              "    }\n",
              "</style>\n",
              "<table border=\"1\" class=\"dataframe\">\n",
              "  <thead>\n",
              "    <tr style=\"text-align: right;\">\n",
              "      <th></th>\n",
              "      <th>BillCode</th>\n",
              "      <th>EnterTime</th>\n",
              "      <th>LeaveTime</th>\n",
              "      <th>BoxSize</th>\n",
              "      <th>MealType</th>\n",
              "      <th>OrderTime</th>\n",
              "      <th>MealSpending</th>\n",
              "      <th>BoxSpending</th>\n",
              "      <th>CustomerNumber</th>\n",
              "      <th>MaleNumber</th>\n",
              "      <th>FemaleNumber</th>\n",
              "      <th>Age</th>\n",
              "      <th>Membership</th>\n",
              "      <th>StoreName</th>\n",
              "      <th>UniqueID</th>\n",
              "    </tr>\n",
              "  </thead>\n",
              "  <tbody>\n",
              "    <tr>\n",
              "      <th>0</th>\n",
              "      <td>1602010011</td>\n",
              "      <td>2016-02-01 00:49:00</td>\n",
              "      <td>2016-02-01 06:01:00</td>\n",
              "      <td>Small box</td>\n",
              "      <td>Light Meal</td>\n",
              "      <td>2016-02-01 01:04:13</td>\n",
              "      <td>114</td>\n",
              "      <td>2857</td>\n",
              "      <td>6</td>\n",
              "      <td>3</td>\n",
              "      <td>3</td>\n",
              "      <td>30~39</td>\n",
              "      <td>0</td>\n",
              "      <td>SOGO Store</td>\n",
              "      <td>1602010011107.0</td>\n",
              "    </tr>\n",
              "    <tr>\n",
              "      <th>1</th>\n",
              "      <td>1602010011</td>\n",
              "      <td>2016-02-01 00:49:00</td>\n",
              "      <td>2016-02-01 06:01:00</td>\n",
              "      <td>Small box</td>\n",
              "      <td>Project Package</td>\n",
              "      <td>2016-02-01 01:43:29</td>\n",
              "      <td>380</td>\n",
              "      <td>2857</td>\n",
              "      <td>6</td>\n",
              "      <td>3</td>\n",
              "      <td>3</td>\n",
              "      <td>30~39</td>\n",
              "      <td>0</td>\n",
              "      <td>SOGO Store</td>\n",
              "      <td>1602010011107.0</td>\n",
              "    </tr>\n",
              "    <tr>\n",
              "      <th>2</th>\n",
              "      <td>1602010011</td>\n",
              "      <td>2016-02-01 00:49:00</td>\n",
              "      <td>2016-02-01 06:01:00</td>\n",
              "      <td>Small box</td>\n",
              "      <td>Beer</td>\n",
              "      <td>2016-02-01 02:17:11</td>\n",
              "      <td>280</td>\n",
              "      <td>2857</td>\n",
              "      <td>6</td>\n",
              "      <td>3</td>\n",
              "      <td>3</td>\n",
              "      <td>30~39</td>\n",
              "      <td>0</td>\n",
              "      <td>SOGO Store</td>\n",
              "      <td>1602010011107.0</td>\n",
              "    </tr>\n",
              "    <tr>\n",
              "      <th>3</th>\n",
              "      <td>1602010011</td>\n",
              "      <td>2016-02-01 00:49:00</td>\n",
              "      <td>2016-02-01 06:01:00</td>\n",
              "      <td>Small box</td>\n",
              "      <td>Beverages (not including wine)</td>\n",
              "      <td>2016-02-01 01:04:13</td>\n",
              "      <td>210</td>\n",
              "      <td>2857</td>\n",
              "      <td>6</td>\n",
              "      <td>3</td>\n",
              "      <td>3</td>\n",
              "      <td>30~39</td>\n",
              "      <td>0</td>\n",
              "      <td>SOGO Store</td>\n",
              "      <td>1602010011107.0</td>\n",
              "    </tr>\n",
              "    <tr>\n",
              "      <th>4</th>\n",
              "      <td>1602010011</td>\n",
              "      <td>2016-02-01 00:49:00</td>\n",
              "      <td>2016-02-01 06:01:00</td>\n",
              "      <td>Small box</td>\n",
              "      <td>Fruit</td>\n",
              "      <td>2016-02-01 01:43:29</td>\n",
              "      <td>343</td>\n",
              "      <td>2857</td>\n",
              "      <td>6</td>\n",
              "      <td>3</td>\n",
              "      <td>3</td>\n",
              "      <td>30~39</td>\n",
              "      <td>0</td>\n",
              "      <td>SOGO Store</td>\n",
              "      <td>1602010011107.0</td>\n",
              "    </tr>\n",
              "  </tbody>\n",
              "</table>\n",
              "</div>"
            ],
            "text/plain": [
              "     BillCode            EnterTime            LeaveTime    BoxSize  \\\n",
              "0  1602010011  2016-02-01 00:49:00  2016-02-01 06:01:00  Small box   \n",
              "1  1602010011  2016-02-01 00:49:00  2016-02-01 06:01:00  Small box   \n",
              "2  1602010011  2016-02-01 00:49:00  2016-02-01 06:01:00  Small box   \n",
              "3  1602010011  2016-02-01 00:49:00  2016-02-01 06:01:00  Small box   \n",
              "4  1602010011  2016-02-01 00:49:00  2016-02-01 06:01:00  Small box   \n",
              "\n",
              "                         MealType            OrderTime  MealSpending  \\\n",
              "0                      Light Meal  2016-02-01 01:04:13           114   \n",
              "1                 Project Package  2016-02-01 01:43:29           380   \n",
              "2                            Beer  2016-02-01 02:17:11           280   \n",
              "3  Beverages (not including wine)  2016-02-01 01:04:13           210   \n",
              "4                           Fruit  2016-02-01 01:43:29           343   \n",
              "\n",
              "   BoxSpending  CustomerNumber  MaleNumber  FemaleNumber    Age  Membership  \\\n",
              "0         2857               6           3             3  30~39           0   \n",
              "1         2857               6           3             3  30~39           0   \n",
              "2         2857               6           3             3  30~39           0   \n",
              "3         2857               6           3             3  30~39           0   \n",
              "4         2857               6           3             3  30~39           0   \n",
              "\n",
              "    StoreName         UniqueID  \n",
              "0  SOGO Store  1602010011107.0  \n",
              "1  SOGO Store  1602010011107.0  \n",
              "2  SOGO Store  1602010011107.0  \n",
              "3  SOGO Store  1602010011107.0  \n",
              "4  SOGO Store  1602010011107.0  "
            ]
          },
          "execution_count": 46,
          "metadata": {},
          "output_type": "execute_result"
        }
      ],
      "source": [
        "# Create \"UniqueID\" columns by concatenating StoreCode and BillCode\n",
        "df[\"UniqueID\"] = df['BillCode'].astype(str) + df['StoreCode'].astype(str)\n",
        "df.drop(['StoreCode'], axis=1, inplace=True)\n",
        "df.head()"
      ]
    },
    {
      "cell_type": "markdown",
      "metadata": {
        "id": "Ct1GITepwfsm"
      },
      "source": [
        "## Change date string to date pandas object"
      ]
    },
    {
      "cell_type": "code",
      "execution_count": 47,
      "metadata": {
        "id": "F6hpxVm3wfsm"
      },
      "outputs": [],
      "source": [
        "# Create function to format the time stamp to date-time object\n",
        "# def get_time(value):\n",
        "#     temp = str.replace(value, \"/\", \"-\")\n",
        "#     count1 = temp.count(\":\")\n",
        "#     if count1 == 1: temp = temp + \":00\"\n",
        "#     return datetime.strptime(temp, \"%Y-%m-%d %H:%M:%S\")\n",
        "\n",
        "# # Create new Time columns containing date-time object format\n",
        "# df[\"TimeEnter\"] = df[\"EnterTime\"].apply(get_time)\n",
        "# df[\"TimeLeave\"] = df[\"LeaveTime\"].apply(get_time)\n",
        "# df[\"TimeOrder\"] = df[\"OrderTime\"].apply(get_time)"
      ]
    },
    {
      "cell_type": "code",
      "execution_count": 48,
      "metadata": {
        "id": "mIF3FH8Xwfsm"
      },
      "outputs": [],
      "source": [
        "# The methods below are more efficient than 'apply' as they utilize pandas vectorized operations\n",
        "# for string manipulation and datetime conversion,\n",
        "# which are optimized for performance on entire columns.\n",
        "df['EnterTime'] = df['EnterTime'].str.replace(\"/\", \"-\").str.pad(19, side='right', fillchar='0')\n",
        "df['LeaveTime'] = df['LeaveTime'].str.replace(\"/\", \"-\").str.pad(19, side='right', fillchar='0')\n",
        "df['OrderTime'] = df['OrderTime'].str.replace(\"/\", \"-\").str.pad(19, side='right', fillchar='0')\n",
        "\n",
        "df[\"EnterTime\"] = pd.to_datetime(df[\"EnterTime\"], format=\"%Y-%m-%d %H:%M:%S\")\n",
        "df[\"LeaveTime\"] = pd.to_datetime(df[\"LeaveTime\"], format=\"%Y-%m-%d %H:%M:%S\")\n",
        "df[\"OrderTime\"] = pd.to_datetime(df[\"OrderTime\"], format=\"%Y-%m-%d %H:%M:%S\")"
      ]
    },
    {
      "cell_type": "code",
      "execution_count": 49,
      "metadata": {
        "colab": {
          "base_uri": "https://localhost:8080/",
          "height": 347
        },
        "id": "6gvyexZCwfsm",
        "outputId": "01ccf797-59ac-42c1-fa20-d4ad78040a54"
      },
      "outputs": [
        {
          "data": {
            "text/html": [
              "<div>\n",
              "<style scoped>\n",
              "    .dataframe tbody tr th:only-of-type {\n",
              "        vertical-align: middle;\n",
              "    }\n",
              "\n",
              "    .dataframe tbody tr th {\n",
              "        vertical-align: top;\n",
              "    }\n",
              "\n",
              "    .dataframe thead th {\n",
              "        text-align: right;\n",
              "    }\n",
              "</style>\n",
              "<table border=\"1\" class=\"dataframe\">\n",
              "  <thead>\n",
              "    <tr style=\"text-align: right;\">\n",
              "      <th></th>\n",
              "      <th>BillCode</th>\n",
              "      <th>EnterTime</th>\n",
              "      <th>LeaveTime</th>\n",
              "      <th>BoxSize</th>\n",
              "      <th>MealType</th>\n",
              "      <th>OrderTime</th>\n",
              "      <th>MealSpending</th>\n",
              "      <th>BoxSpending</th>\n",
              "      <th>CustomerNumber</th>\n",
              "      <th>MaleNumber</th>\n",
              "      <th>FemaleNumber</th>\n",
              "      <th>Age</th>\n",
              "      <th>Membership</th>\n",
              "      <th>StoreName</th>\n",
              "      <th>UniqueID</th>\n",
              "      <th>Duration(hours)</th>\n",
              "    </tr>\n",
              "  </thead>\n",
              "  <tbody>\n",
              "    <tr>\n",
              "      <th>0</th>\n",
              "      <td>1602010011</td>\n",
              "      <td>2016-02-01 00:49:00</td>\n",
              "      <td>2016-02-01 06:01:00</td>\n",
              "      <td>Small box</td>\n",
              "      <td>Light Meal</td>\n",
              "      <td>2016-02-01 01:04:13</td>\n",
              "      <td>114</td>\n",
              "      <td>2857</td>\n",
              "      <td>6</td>\n",
              "      <td>3</td>\n",
              "      <td>3</td>\n",
              "      <td>30~39</td>\n",
              "      <td>0</td>\n",
              "      <td>SOGO Store</td>\n",
              "      <td>1602010011107.0</td>\n",
              "      <td>5.2</td>\n",
              "    </tr>\n",
              "    <tr>\n",
              "      <th>1</th>\n",
              "      <td>1602010011</td>\n",
              "      <td>2016-02-01 00:49:00</td>\n",
              "      <td>2016-02-01 06:01:00</td>\n",
              "      <td>Small box</td>\n",
              "      <td>Project Package</td>\n",
              "      <td>2016-02-01 01:43:29</td>\n",
              "      <td>380</td>\n",
              "      <td>2857</td>\n",
              "      <td>6</td>\n",
              "      <td>3</td>\n",
              "      <td>3</td>\n",
              "      <td>30~39</td>\n",
              "      <td>0</td>\n",
              "      <td>SOGO Store</td>\n",
              "      <td>1602010011107.0</td>\n",
              "      <td>5.2</td>\n",
              "    </tr>\n",
              "    <tr>\n",
              "      <th>2</th>\n",
              "      <td>1602010011</td>\n",
              "      <td>2016-02-01 00:49:00</td>\n",
              "      <td>2016-02-01 06:01:00</td>\n",
              "      <td>Small box</td>\n",
              "      <td>Beer</td>\n",
              "      <td>2016-02-01 02:17:11</td>\n",
              "      <td>280</td>\n",
              "      <td>2857</td>\n",
              "      <td>6</td>\n",
              "      <td>3</td>\n",
              "      <td>3</td>\n",
              "      <td>30~39</td>\n",
              "      <td>0</td>\n",
              "      <td>SOGO Store</td>\n",
              "      <td>1602010011107.0</td>\n",
              "      <td>5.2</td>\n",
              "    </tr>\n",
              "    <tr>\n",
              "      <th>3</th>\n",
              "      <td>1602010011</td>\n",
              "      <td>2016-02-01 00:49:00</td>\n",
              "      <td>2016-02-01 06:01:00</td>\n",
              "      <td>Small box</td>\n",
              "      <td>Beverages (not including wine)</td>\n",
              "      <td>2016-02-01 01:04:13</td>\n",
              "      <td>210</td>\n",
              "      <td>2857</td>\n",
              "      <td>6</td>\n",
              "      <td>3</td>\n",
              "      <td>3</td>\n",
              "      <td>30~39</td>\n",
              "      <td>0</td>\n",
              "      <td>SOGO Store</td>\n",
              "      <td>1602010011107.0</td>\n",
              "      <td>5.2</td>\n",
              "    </tr>\n",
              "    <tr>\n",
              "      <th>4</th>\n",
              "      <td>1602010011</td>\n",
              "      <td>2016-02-01 00:49:00</td>\n",
              "      <td>2016-02-01 06:01:00</td>\n",
              "      <td>Small box</td>\n",
              "      <td>Fruit</td>\n",
              "      <td>2016-02-01 01:43:29</td>\n",
              "      <td>343</td>\n",
              "      <td>2857</td>\n",
              "      <td>6</td>\n",
              "      <td>3</td>\n",
              "      <td>3</td>\n",
              "      <td>30~39</td>\n",
              "      <td>0</td>\n",
              "      <td>SOGO Store</td>\n",
              "      <td>1602010011107.0</td>\n",
              "      <td>5.2</td>\n",
              "    </tr>\n",
              "  </tbody>\n",
              "</table>\n",
              "</div>"
            ],
            "text/plain": [
              "     BillCode           EnterTime           LeaveTime    BoxSize  \\\n",
              "0  1602010011 2016-02-01 00:49:00 2016-02-01 06:01:00  Small box   \n",
              "1  1602010011 2016-02-01 00:49:00 2016-02-01 06:01:00  Small box   \n",
              "2  1602010011 2016-02-01 00:49:00 2016-02-01 06:01:00  Small box   \n",
              "3  1602010011 2016-02-01 00:49:00 2016-02-01 06:01:00  Small box   \n",
              "4  1602010011 2016-02-01 00:49:00 2016-02-01 06:01:00  Small box   \n",
              "\n",
              "                         MealType           OrderTime  MealSpending  \\\n",
              "0                      Light Meal 2016-02-01 01:04:13           114   \n",
              "1                 Project Package 2016-02-01 01:43:29           380   \n",
              "2                            Beer 2016-02-01 02:17:11           280   \n",
              "3  Beverages (not including wine) 2016-02-01 01:04:13           210   \n",
              "4                           Fruit 2016-02-01 01:43:29           343   \n",
              "\n",
              "   BoxSpending  CustomerNumber  MaleNumber  FemaleNumber    Age  Membership  \\\n",
              "0         2857               6           3             3  30~39           0   \n",
              "1         2857               6           3             3  30~39           0   \n",
              "2         2857               6           3             3  30~39           0   \n",
              "3         2857               6           3             3  30~39           0   \n",
              "4         2857               6           3             3  30~39           0   \n",
              "\n",
              "    StoreName         UniqueID  Duration(hours)  \n",
              "0  SOGO Store  1602010011107.0              5.2  \n",
              "1  SOGO Store  1602010011107.0              5.2  \n",
              "2  SOGO Store  1602010011107.0              5.2  \n",
              "3  SOGO Store  1602010011107.0              5.2  \n",
              "4  SOGO Store  1602010011107.0              5.2  "
            ]
          },
          "execution_count": 49,
          "metadata": {},
          "output_type": "execute_result"
        }
      ],
      "source": [
        "df[\"Duration(hours)\"] = (df[\"LeaveTime\"] - df[\"EnterTime\"]) / np.timedelta64(1, 's') / 3600\n",
        "df.head()"
      ]
    },
    {
      "cell_type": "markdown",
      "metadata": {
        "id": "88QhqiuLAia-"
      },
      "source": [
        "## Caching"
      ]
    },
    {
      "cell_type": "code",
      "execution_count": 50,
      "metadata": {
        "id": "lc54tilNAmRC"
      },
      "outputs": [],
      "source": [
        "df.to_feather('./Customerbehavior_Final.feather')"
      ]
    },
    {
      "cell_type": "code",
      "execution_count": 51,
      "metadata": {
        "colab": {
          "base_uri": "https://localhost:8080/"
        },
        "id": "q9y-ASnRAoOj",
        "outputId": "bdedc044-27a5-47c5-c3cc-aafe1ab370c0"
      },
      "outputs": [
        {
          "data": {
            "text/html": [
              "<div>\n",
              "<style scoped>\n",
              "    .dataframe tbody tr th:only-of-type {\n",
              "        vertical-align: middle;\n",
              "    }\n",
              "\n",
              "    .dataframe tbody tr th {\n",
              "        vertical-align: top;\n",
              "    }\n",
              "\n",
              "    .dataframe thead th {\n",
              "        text-align: right;\n",
              "    }\n",
              "</style>\n",
              "<table border=\"1\" class=\"dataframe\">\n",
              "  <thead>\n",
              "    <tr style=\"text-align: right;\">\n",
              "      <th></th>\n",
              "      <th>BillCode</th>\n",
              "      <th>EnterTime</th>\n",
              "      <th>LeaveTime</th>\n",
              "      <th>BoxSize</th>\n",
              "      <th>MealType</th>\n",
              "      <th>OrderTime</th>\n",
              "      <th>MealSpending</th>\n",
              "      <th>BoxSpending</th>\n",
              "      <th>CustomerNumber</th>\n",
              "      <th>MaleNumber</th>\n",
              "      <th>FemaleNumber</th>\n",
              "      <th>Age</th>\n",
              "      <th>Membership</th>\n",
              "      <th>StoreName</th>\n",
              "      <th>UniqueID</th>\n",
              "      <th>Duration(hours)</th>\n",
              "    </tr>\n",
              "  </thead>\n",
              "  <tbody>\n",
              "    <tr>\n",
              "      <th>0</th>\n",
              "      <td>1602010011</td>\n",
              "      <td>2016-02-01 00:49:00</td>\n",
              "      <td>2016-02-01 06:01:00</td>\n",
              "      <td>Small box</td>\n",
              "      <td>Light Meal</td>\n",
              "      <td>2016-02-01 01:04:13</td>\n",
              "      <td>114</td>\n",
              "      <td>2857</td>\n",
              "      <td>6</td>\n",
              "      <td>3</td>\n",
              "      <td>3</td>\n",
              "      <td>30~39</td>\n",
              "      <td>0</td>\n",
              "      <td>SOGO Store</td>\n",
              "      <td>1602010011107.0</td>\n",
              "      <td>5.2</td>\n",
              "    </tr>\n",
              "    <tr>\n",
              "      <th>1</th>\n",
              "      <td>1602010011</td>\n",
              "      <td>2016-02-01 00:49:00</td>\n",
              "      <td>2016-02-01 06:01:00</td>\n",
              "      <td>Small box</td>\n",
              "      <td>Project Package</td>\n",
              "      <td>2016-02-01 01:43:29</td>\n",
              "      <td>380</td>\n",
              "      <td>2857</td>\n",
              "      <td>6</td>\n",
              "      <td>3</td>\n",
              "      <td>3</td>\n",
              "      <td>30~39</td>\n",
              "      <td>0</td>\n",
              "      <td>SOGO Store</td>\n",
              "      <td>1602010011107.0</td>\n",
              "      <td>5.2</td>\n",
              "    </tr>\n",
              "    <tr>\n",
              "      <th>2</th>\n",
              "      <td>1602010011</td>\n",
              "      <td>2016-02-01 00:49:00</td>\n",
              "      <td>2016-02-01 06:01:00</td>\n",
              "      <td>Small box</td>\n",
              "      <td>Beer</td>\n",
              "      <td>2016-02-01 02:17:11</td>\n",
              "      <td>280</td>\n",
              "      <td>2857</td>\n",
              "      <td>6</td>\n",
              "      <td>3</td>\n",
              "      <td>3</td>\n",
              "      <td>30~39</td>\n",
              "      <td>0</td>\n",
              "      <td>SOGO Store</td>\n",
              "      <td>1602010011107.0</td>\n",
              "      <td>5.2</td>\n",
              "    </tr>\n",
              "    <tr>\n",
              "      <th>3</th>\n",
              "      <td>1602010011</td>\n",
              "      <td>2016-02-01 00:49:00</td>\n",
              "      <td>2016-02-01 06:01:00</td>\n",
              "      <td>Small box</td>\n",
              "      <td>Beverages (not including wine)</td>\n",
              "      <td>2016-02-01 01:04:13</td>\n",
              "      <td>210</td>\n",
              "      <td>2857</td>\n",
              "      <td>6</td>\n",
              "      <td>3</td>\n",
              "      <td>3</td>\n",
              "      <td>30~39</td>\n",
              "      <td>0</td>\n",
              "      <td>SOGO Store</td>\n",
              "      <td>1602010011107.0</td>\n",
              "      <td>5.2</td>\n",
              "    </tr>\n",
              "    <tr>\n",
              "      <th>4</th>\n",
              "      <td>1602010011</td>\n",
              "      <td>2016-02-01 00:49:00</td>\n",
              "      <td>2016-02-01 06:01:00</td>\n",
              "      <td>Small box</td>\n",
              "      <td>Fruit</td>\n",
              "      <td>2016-02-01 01:43:29</td>\n",
              "      <td>343</td>\n",
              "      <td>2857</td>\n",
              "      <td>6</td>\n",
              "      <td>3</td>\n",
              "      <td>3</td>\n",
              "      <td>30~39</td>\n",
              "      <td>0</td>\n",
              "      <td>SOGO Store</td>\n",
              "      <td>1602010011107.0</td>\n",
              "      <td>5.2</td>\n",
              "    </tr>\n",
              "  </tbody>\n",
              "</table>\n",
              "</div>"
            ],
            "text/plain": [
              "     BillCode           EnterTime           LeaveTime    BoxSize  \\\n",
              "0  1602010011 2016-02-01 00:49:00 2016-02-01 06:01:00  Small box   \n",
              "1  1602010011 2016-02-01 00:49:00 2016-02-01 06:01:00  Small box   \n",
              "2  1602010011 2016-02-01 00:49:00 2016-02-01 06:01:00  Small box   \n",
              "3  1602010011 2016-02-01 00:49:00 2016-02-01 06:01:00  Small box   \n",
              "4  1602010011 2016-02-01 00:49:00 2016-02-01 06:01:00  Small box   \n",
              "\n",
              "                         MealType           OrderTime  MealSpending  \\\n",
              "0                      Light Meal 2016-02-01 01:04:13           114   \n",
              "1                 Project Package 2016-02-01 01:43:29           380   \n",
              "2                            Beer 2016-02-01 02:17:11           280   \n",
              "3  Beverages (not including wine) 2016-02-01 01:04:13           210   \n",
              "4                           Fruit 2016-02-01 01:43:29           343   \n",
              "\n",
              "   BoxSpending  CustomerNumber  MaleNumber  FemaleNumber    Age  Membership  \\\n",
              "0         2857               6           3             3  30~39           0   \n",
              "1         2857               6           3             3  30~39           0   \n",
              "2         2857               6           3             3  30~39           0   \n",
              "3         2857               6           3             3  30~39           0   \n",
              "4         2857               6           3             3  30~39           0   \n",
              "\n",
              "    StoreName         UniqueID  Duration(hours)  \n",
              "0  SOGO Store  1602010011107.0              5.2  \n",
              "1  SOGO Store  1602010011107.0              5.2  \n",
              "2  SOGO Store  1602010011107.0              5.2  \n",
              "3  SOGO Store  1602010011107.0              5.2  \n",
              "4  SOGO Store  1602010011107.0              5.2  "
            ]
          },
          "execution_count": 51,
          "metadata": {},
          "output_type": "execute_result"
        }
      ],
      "source": [
        "df = pd.read_feather('./Customerbehavior_Final.feather')\n",
        "df.head()"
      ]
    },
    {
      "cell_type": "markdown",
      "metadata": {
        "id": "RRJCaop59K8N"
      },
      "source": [
        "# Plotting"
      ]
    },
    {
      "cell_type": "code",
      "execution_count": 52,
      "metadata": {},
      "outputs": [
        {
          "name": "stdout",
          "output_type": "stream",
          "text": [
            "Each transaction has a unique age.\n"
          ]
        }
      ],
      "source": [
        "df = pd.read_feather('./Customerbehavior_Final.feather')\n",
        "unique_ages = df.groupby(\"UniqueID\")[\"Age\"].unique()\n",
        "all_transactions_have_unique_age = all(unique_ages.apply(len) == 1)\n",
        "\n",
        "if all_transactions_have_unique_age:\n",
        "    print(\"Each transaction has a unique age.\")\n",
        "else:\n",
        "    print(\"Some transactions have more than one age associated.\")\n",
        "\n",
        "# It's unusual that each transaction has a unique age, as this suggests there are no groups with significant age disparities.\n"
      ]
    },
    {
      "cell_type": "markdown",
      "metadata": {},
      "source": [
        "## Transaction amout by Store"
      ]
    },
    {
      "cell_type": "code",
      "execution_count": 53,
      "metadata": {
        "id": "aDOhB-4Xwfsm"
      },
      "outputs": [
        {
          "data": {
            "image/png": "[encoded data removed]",
            "text/plain": [
              "<Figure size 1000x600 with 1 Axes>"
            ]
          },
          "metadata": {},
          "output_type": "display_data"
        }
      ],
      "source": [
        "df = pd.read_feather('./Customerbehavior_Final.feather')\n",
        "\n",
        "# Counting occurrences of each StoreName\n",
        "store_counts = df['StoreName'].value_counts().sort_values(ascending=False)\n",
        "\n",
        "# Generating the bar chart\n",
        "plt.figure(figsize=(10,6))\n",
        "store_counts.plot(kind='bar')\n",
        "plt.title('Count of Occurrences by StoreName')\n",
        "plt.xlabel('StoreName')\n",
        "plt.ylabel('Count of Occurrences')\n",
        "plt.xticks(rotation=45)\n",
        "plt.show()"
      ]
    },
    {
      "cell_type": "code",
      "execution_count": 54,
      "metadata": {},
      "outputs": [
        {
          "data": {
            "image/png": "[encoded data removed]",
            "text/plain": [
              "<Figure size 1000x600 with 1 Axes>"
            ]
          },
          "metadata": {},
          "output_type": "display_data"
        }
      ],
      "source": [
        "df = pd.read_feather('./Customerbehavior_Final.feather')\n",
        "\n",
        "# Counting occurrences of each StoreName\n",
        "sum_per_store = df.groupby('StoreName')['MealSpending'].sum().sort_values(ascending=False)\n",
        "\n",
        "# Generating the bar chart\n",
        "plt.figure(figsize=(10,6))\n",
        "sum_per_store.plot(kind='bar')\n",
        "plt.title('Count of Occurrences by StoreName')\n",
        "plt.xlabel('StoreName')\n",
        "plt.ylabel('Count of Occurrences')\n",
        "plt.xticks(rotation=45)\n",
        "plt.show()  "
      ]
    },
    {
      "cell_type": "code",
      "execution_count": 55,
      "metadata": {},
      "outputs": [
        {
          "data": {
            "image/png": "[encoded data removed]",
            "text/plain": [
              "<Figure size 1000x600 with 1 Axes>"
            ]
          },
          "metadata": {},
          "output_type": "display_data"
        }
      ],
      "source": [
        "df = pd.read_feather('./Customerbehavior_Final.feather')\n",
        "\n",
        "# Drop duplicate \n",
        "df.drop_duplicates(subset='UniqueID', keep='first', inplace=True)\n",
        "\n",
        "# Counting occurrences of each StoreName\n",
        "sum_per_store = df.groupby('StoreName')['BoxSpending'].sum().sort_values(ascending=False)\n",
        "\n",
        "# Generating the bar chart\n",
        "plt.figure(figsize=(10,6))\n",
        "sum_per_store.plot(kind='bar')\n",
        "plt.title('Count of Occurrences by StoreName')\n",
        "plt.xlabel('StoreName')\n",
        "plt.ylabel('Count of Occurrences')\n",
        "plt.xticks(rotation=45)\n",
        "plt.show()  "
      ]
    },
    {
      "cell_type": "code",
      "execution_count": 56,
      "metadata": {},
      "outputs": [
        {
          "data": {
            "image/png": "[encoded data removed]",
            "text/plain": [
              "<Figure size 1000x600 with 1 Axes>"
            ]
          },
          "metadata": {},
          "output_type": "display_data"
        }
      ],
      "source": [
        "df = pd.read_feather('./Customerbehavior_Final.feather')\n",
        "\n",
        "# Drop duplicates based on 'UniqueID'\n",
        "df.drop_duplicates(subset='UniqueID', keep='first', inplace=True)\n",
        "\n",
        "# Calculate the total duration for each transaction\n",
        "df['TotalDuration'] = df['Duration(hours)'] * df['CustomerNumber']\n",
        "\n",
        "# Group by 'Age' and calculate the weighted mean of durations\n",
        "age_duration = df.groupby('Age').apply(lambda x: x['TotalDuration'].sum() / x['CustomerNumber'].sum())\n",
        "\n",
        "plt.figure(figsize=(10, 6))\n",
        "age_duration.plot(kind='bar', color='skyblue')\n",
        "plt.title('Average Time Spent per Age Group')\n",
        "plt.xlabel('Age Group')\n",
        "plt.ylabel('Average Time (hours)')\n",
        "plt.xticks(rotation=45)\n",
        "plt.tight_layout()\n",
        "\n",
        "# Display the bar chart\n",
        "plt.show()"
      ]
    },
    {
      "cell_type": "code",
      "execution_count": 57,
      "metadata": {},
      "outputs": [
        {
          "data": {
            "image/png": "[encoded data removed]",
            "text/plain": [
              "<Figure size 600x600 with 1 Axes>"
            ]
          },
          "metadata": {},
          "output_type": "display_data"
        }
      ],
      "source": [
        "df = pd.read_feather('./Customerbehavior_Final.feather')\n",
        "\n",
        "df = df.drop_duplicates(subset=\"UniqueID\", keep=\"first\")\n",
        "\n",
        "# Calculate the total amount of male and female\n",
        "total_male_amount = df['MaleNumber'].sum()\n",
        "total_female_amount = df['FemaleNumber'].sum()\n",
        "\n",
        "\n",
        "# Calculate percentages\n",
        "total_amount = total_male_amount + total_female_amount\n",
        "male_percentage = (total_male_amount / total_amount) * 100\n",
        "female_percentage = (total_female_amount / total_amount) * 100\n",
        "\n",
        "# Data for the pie chart\n",
        "percentages = [male_percentage, female_percentage]\n",
        "labels = ['Male', 'Female']\n",
        "colors = ['skyblue', 'pink']\n",
        "\n",
        "# Create a pie chart to represent the percentages of male and female\n",
        "plt.figure(figsize=(6, 6))\n",
        "plt.pie(percentages, labels=labels, colors=colors, autopct='%1.1f%%', startangle=140)\n",
        "plt.title('Percentage of Male and Female')\n",
        "plt.axis('equal')  # Equal aspect ratio ensures that pie is drawn as a circle.\n",
        "plt.tight_layout()\n",
        "\n",
        "# Display the pie chart\n",
        "plt.show()"
      ]
    },
    {
      "cell_type": "code",
      "execution_count": 58,
      "metadata": {},
      "outputs": [
        {
          "data": {
            "image/png": "[encoded data removed]",
            "text/plain": [
              "<Figure size 800x600 with 1 Axes>"
            ]
          },
          "metadata": {},
          "output_type": "display_data"
        }
      ],
      "source": [
        "import pandas as pd\n",
        "import matplotlib.pyplot as plt\n",
        "\n",
        "df = pd.read_feather('./Customerbehavior_Final.feather')\n",
        "\n",
        "\n",
        "# Drop duplicates based on 'UniqueID'\n",
        "df.drop_duplicates(subset='UniqueID', keep='first', inplace=True)\n",
        "\n",
        "\n",
        "customer_count_by_age = df.groupby('Age')['CustomerNumber'].sum()\n",
        "\n",
        "plt.figure(figsize=(8, 6))\n",
        "customer_count_by_age.plot(kind='bar', color='skyblue')\n",
        "plt.title('Total Number of Customers by Age Category')\n",
        "plt.xlabel('Age Category')\n",
        "plt.ylabel('Total Number of Customers')\n",
        "plt.xticks(rotation=45)\n",
        "plt.tight_layout()\n",
        "\n",
        "plt.show()"
      ]
    },
    {
      "cell_type": "code",
      "execution_count": 59,
      "metadata": {},
      "outputs": [
        {
          "data": {
            "text/plain": [
              "<Figure size 1000x600 with 0 Axes>"
            ]
          },
          "metadata": {},
          "output_type": "display_data"
        },
        {
          "data": {
            "image/png": "[encoded data removed]",
            "text/plain": [
              "<Figure size 640x480 with 1 Axes>"
            ]
          },
          "metadata": {},
          "output_type": "display_data"
        }
      ],
      "source": [
        "import pandas as pd\n",
        "import matplotlib.pyplot as plt\n",
        "\n",
        "df = pd.read_feather('./Customerbehavior_Final.feather')\n",
        "\n",
        "\n",
        "# Drop duplicates based on 'UniqueID'\n",
        "df.drop_duplicates(subset='UniqueID', keep='first', inplace=True)\n",
        "\n",
        "# Grouping the data by age range and summing the MaleNumber and FemaleNumber\n",
        "age_gender_counts = df.groupby('Age')[['MaleNumber', 'FemaleNumber']].sum()\n",
        "\n",
        "# Plotting a grouped bar chart to represent the count of each age range categorized by gender\n",
        "plt.figure(figsize=(10, 6))\n",
        "age_gender_counts.plot(kind='bar', stacked=True)\n",
        "plt.title('Count of Each Age Range Categorized by Gender')\n",
        "plt.xlabel('Age Range')\n",
        "plt.ylabel('Count')\n",
        "plt.xticks(rotation=45)\n",
        "plt.legend(title='Gender')\n",
        "plt.tight_layout()\n",
        "\n",
        "# Display the grouped bar chart\n",
        "plt.show()\n"
      ]
    },
    {
      "cell_type": "markdown",
      "metadata": {
        "id": "nYLiibPD9QTl"
      },
      "source": [
        "# IA\n"
      ]
    },
    {
      "cell_type": "markdown",
      "metadata": {},
      "source": [
        "## Duration"
      ]
    },
    {
      "cell_type": "code",
      "execution_count": 60,
      "metadata": {},
      "outputs": [],
      "source": [
        "# Reset the dataframe\n",
        "df = pd.read_feather('./Customerbehavior_Final.feather')\n",
        "\n",
        "# Drop duplicate \n",
        "df.drop_duplicates(subset='UniqueID', keep='first', inplace=True)\n",
        "\n",
        "df.drop([\"Duration(hours)\", \"UniqueID\", \"MealType\", \"MealSpending\", \"OrderTime\", \"BillCode\", \"BoxSpending\"], axis=1, inplace=True)\n",
        "\n",
        "df[\"EnterTime\"] = df['EnterTime'].dt.hour * 60 + df['EnterTime'].dt.minute\n",
        "df[\"LeaveTime\"] = df['LeaveTime'].dt.hour * 60 + df['LeaveTime'].dt.minute\n",
        "\n",
        "column_box = ['BoxSize_' + x for x in df[\"BoxSize\"].unique()]\n",
        "column_age = ['Age_' + x for x in df[\"Age\"].unique()]\n",
        "column_store = ['StoreName_' + x for x in df[\"StoreName\"].unique()]\n",
        "\n",
        "df = pd.get_dummies(df, columns=['BoxSize', \"Age\", 'StoreName'])"
      ]
    },
    {
      "cell_type": "code",
      "execution_count": 61,
      "metadata": {},
      "outputs": [],
      "source": [
        "y_name = \"LeaveTime\"\n",
        "\n",
        "X = df.drop(y_name, axis=1)\n",
        "y = df[y_name]\n",
        "\n",
        "train_size_analyse = 0.15\n",
        "train_size_final = 0.8\n",
        "X_train, X_val, y_train, y_val = train_test_split(X, y,train_size=train_size_analyse, test_size=0.1, random_state=random_state)"
      ]
    },
    {
      "cell_type": "code",
      "execution_count": 62,
      "metadata": {},
      "outputs": [
        {
          "data": {
            "text/plain": [
              "['random_forest_model_duration_v1.joblib']"
            ]
          },
          "execution_count": 62,
          "metadata": {},
          "output_type": "execute_result"
        }
      ],
      "source": [
        "from sklearn.ensemble import RandomForestRegressor\n",
        "\n",
        "model = RandomForestRegressor(random_state=random_state, n_jobs=-1)  \n",
        "\n",
        "model.fit(X_train, y_train)\n",
        "\n",
        "joblib.dump(model, f'random_forest_model_duration_v1.joblib')"
      ]
    },
    {
      "cell_type": "code",
      "execution_count": 63,
      "metadata": {},
      "outputs": [
        {
          "name": "stdout",
          "output_type": "stream",
          "text": [
            "MSE: 85134.28876167793\n",
            "MAE: 144.8815793216909\n",
            "R²: 0.6627123023276995\n",
            "Random state: 1117\n",
            "Train size: (55647, 27)\n",
            "X: Index(['EnterTime', 'CustomerNumber', 'MaleNumber', 'FemaleNumber',\n",
            "       'Membership', 'BoxSize_Big box', 'BoxSize_Large box',\n",
            "       'BoxSize_Large box (no toilet)', 'BoxSize_Medium box',\n",
            "       'BoxSize_PARTY big box', 'BoxSize_PARTY big box ',\n",
            "       'BoxSize_PARTY in the big box', 'BoxSize_PARTY medium the box',\n",
            "       'BoxSize_PARTY small box', 'BoxSize_Presidential package',\n",
            "       'BoxSize_Small box', 'Age_19 Below', 'Age_20~29', 'Age_30~39',\n",
            "       'Age_40~49', 'Age_50 Above', 'StoreName_Jia yi', 'StoreName_Kaohsiung',\n",
            "       'StoreName_Lin Sheng', 'StoreName_SOGO Store', 'StoreName_Tao Yuan',\n",
            "       'StoreName_Zhong Hua Xin dian'],\n",
            "      dtype='object')\n",
            "y: LeaveTime\n",
            "EnterTime: 0.7695175292842484\n",
            "CustomerNumber: 0.051541071686660785\n",
            "FemaleNumber: 0.032309477262974756\n",
            "MaleNumber: 0.03203637578669294\n",
            "Membership: 0.013937394082063775\n",
            "StoreName_Lin Sheng: 0.012901622037671458\n",
            "Age_30~39: 0.009591855118287654\n",
            "StoreName_SOGO Store: 0.008101252312049688\n",
            "Age_20~29: 0.00790961452950535\n",
            "StoreName_Zhong Hua Xin dian: 0.007447875416102968\n",
            "StoreName_Tao Yuan: 0.007377783105971479\n",
            "Age_40~49: 0.007219254108933451\n",
            "BoxSize_Small box: 0.007215920952829163\n",
            "BoxSize_Medium box: 0.0063201901150142245\n",
            "StoreName_Kaohsiung: 0.004050148028094905\n",
            "StoreName_Jia yi: 0.004046923991082791\n",
            "Age_50 Above: 0.003853819979567248\n",
            "BoxSize_PARTY big box: 0.003688890251303897\n",
            "BoxSize_PARTY medium the box: 0.0029731938477730434\n",
            "BoxSize_PARTY in the big box: 0.0018895058605387389\n",
            "BoxSize_Big box: 0.0017339562779294328\n",
            "BoxSize_PARTY big box : 0.0016599852547766396\n",
            "BoxSize_PARTY small box: 0.0010308770153386207\n",
            "Age_19 Below: 0.000857508152375919\n",
            "BoxSize_Large box: 0.000610815707022538\n",
            "BoxSize_Presidential package: 0.00011551275005351993\n",
            "BoxSize_Large box (no toilet): 6.164708513650699e-05\n"
          ]
        }
      ],
      "source": [
        "# Import necessary metrics from scikit-learn\n",
        "from sklearn.metrics import mean_squared_error, mean_absolute_error, r2_score\n",
        "import numpy as np\n",
        "\n",
        "# y_pred is the prediction of your model on the validation dataset\n",
        "y_pred = model.predict(X_val)\n",
        "\n",
        "# Calculate regression metrics\n",
        "mse = mean_squared_error(y_val, y_pred)  # Calculate Mean Squared Error\n",
        "mae = mean_absolute_error(y_val, y_pred) # Calculate Mean Absolute Error\n",
        "r2 = r2_score(y_val, y_pred)             # Calculate R-squared score\n",
        "\n",
        "# Print the metrics\n",
        "print(f\"MSE: {mse}\")\n",
        "print(f\"MAE: {mae}\")\n",
        "print(f\"R²: {r2}\")\n",
        "\n",
        "# Print additional model and training information\n",
        "print(f\"Random state: {random_state}\")    # Print the random state used for reproducibility\n",
        "print(f\"Train size: {X_train.shape}\")     # Print the size of the training set\n",
        "print(f\"X: {X_train.columns}\")            # Print the names of the features\n",
        "print(f\"y: {y_name}\")                     # Print the name of the target variable\n",
        "\n",
        "# Feature importance calculation and display\n",
        "importances = model.feature_importances_\n",
        "indices = np.argsort(importances)[::-1]   # Sort feature importances in descending order\n",
        "\n",
        "# Print the importance of each feature\n",
        "for f in range(X.shape[1]):\n",
        "    print(f\"{X.columns[indices[f]]}: {importances[indices[f]]}\")\n"
      ]
    },
    {
      "cell_type": "code",
      "execution_count": 64,
      "metadata": {},
      "outputs": [
        {
          "name": "stdout",
          "output_type": "stream",
          "text": [
            "['EnterTime', 'CustomerNumber', 'MaleNumber', 'FemaleNumber', 'Membership', 'StoreName_Lin Sheng']\n"
          ]
        }
      ],
      "source": [
        "importance_min = 0.01\n",
        "\n",
        "# Get the names of the top N features\n",
        "features_importantes = [X.columns[i] for i in range(len(importances)) if importances[i] > importance_min]\n",
        "\n",
        "print(features_importantes)"
      ]
    },
    {
      "cell_type": "code",
      "execution_count": 65,
      "metadata": {},
      "outputs": [],
      "source": [
        "X = X[features_importantes]\n",
        "X_train, X_val, y_train, y_val = train_test_split(X, y,train_size=train_size_final, test_size=0.1, random_state=random_state)"
      ]
    },
    {
      "cell_type": "code",
      "execution_count": 66,
      "metadata": {},
      "outputs": [
        {
          "data": {
            "text/plain": [
              "['random_forest_model_duration_v2.joblib']"
            ]
          },
          "execution_count": 66,
          "metadata": {},
          "output_type": "execute_result"
        }
      ],
      "source": [
        "from sklearn.ensemble import RandomForestRegressor\n",
        "\n",
        "model = RandomForestRegressor(random_state=random_state, n_jobs=-1)  \n",
        "\n",
        "model.fit(X_train, y_train)\n",
        "\n",
        "joblib.dump(model, 'random_forest_model_duration_v2.joblib')"
      ]
    },
    {
      "cell_type": "code",
      "execution_count": 67,
      "metadata": {},
      "outputs": [
        {
          "name": "stdout",
          "output_type": "stream",
          "text": [
            "MSE: 94213.67567785141\n",
            "MAE: 149.96950845093156\n",
            "R²: 0.6267413022315473\n",
            "Random state: 1117\n",
            "Train size: (296787, 6)\n",
            "X: Index(['EnterTime', 'CustomerNumber', 'MaleNumber', 'FemaleNumber',\n",
            "       'Membership', 'StoreName_Lin Sheng'],\n",
            "      dtype='object')\n",
            "y: LeaveTime\n",
            "EnterTime: 0.8613446819383009\n",
            "CustomerNumber: 0.04947355454161852\n",
            "FemaleNumber: 0.032040382850634125\n",
            "MaleNumber: 0.031038503331250196\n",
            "StoreName_Lin Sheng: 0.014695485814038352\n",
            "Membership: 0.011407391524157862\n"
          ]
        }
      ],
      "source": [
        "# Import necessary metrics from scikit-learn\n",
        "from sklearn.metrics import mean_squared_error, mean_absolute_error, r2_score\n",
        "import numpy as np\n",
        "\n",
        "# y_pred is the prediction of your model on the validation dataset\n",
        "y_pred = model.predict(X_val)\n",
        "\n",
        "# Calculate regression metrics\n",
        "mse = mean_squared_error(y_val, y_pred)  # Calculate Mean Squared Error\n",
        "mae = mean_absolute_error(y_val, y_pred) # Calculate Mean Absolute Error\n",
        "r2 = r2_score(y_val, y_pred)             # Calculate R-squared score\n",
        "\n",
        "# Print the metrics\n",
        "print(f\"MSE: {mse}\")\n",
        "print(f\"MAE: {mae}\")\n",
        "print(f\"R²: {r2}\")\n",
        "\n",
        "# Print additional model and training information\n",
        "print(f\"Random state: {random_state}\")    # Print the random state used for reproducibility\n",
        "print(f\"Train size: {X_train.shape}\")     # Print the size of the training set\n",
        "print(f\"X: {X_train.columns}\")            # Print the names of the features\n",
        "print(f\"y: {y_name}\")                     # Print the name of the target variable\n",
        "\n",
        "# Feature importance calculation and display\n",
        "importances = model.feature_importances_\n",
        "indices = np.argsort(importances)[::-1]   # Sort feature importances in descending order\n",
        "\n",
        "# Print the importance of each feature\n",
        "for f in range(X.shape[1]):\n",
        "    print(f\"{X.columns[indices[f]]}: {importances[indices[f]]}\")\n"
      ]
    },
    {
      "cell_type": "markdown",
      "metadata": {},
      "source": [
        "## Membership"
      ]
    },
    {
      "cell_type": "code",
      "execution_count": 68,
      "metadata": {},
      "outputs": [],
      "source": [
        "# Reset the dataframe\n",
        "df = pd.read_feather('./Customerbehavior_Final.feather')\n",
        "\n",
        "# Drop duplicate \n",
        "df.drop_duplicates(subset='UniqueID', keep='first', inplace=True)\n",
        "\n",
        "df.drop([\"UniqueID\", \"MealType\", \"MealSpending\", \"OrderTime\", \"BillCode\", \"CustomerNumber\"], axis=1, inplace=True)\n",
        "\n",
        "df[\"EnterTime\"] = df['EnterTime'].dt.hour * 60 + df['EnterTime'].dt.minute\n",
        "df[\"LeaveTime\"] = df['LeaveTime'].dt.hour * 60 + df['LeaveTime'].dt.minute\n",
        "\n",
        "column_box = ['BoxSize_' + x for x in df[\"BoxSize\"].unique()]\n",
        "column_age = ['Age_' + x for x in df[\"Age\"].unique()]\n",
        "column_store = ['StoreName_' + x for x in df[\"StoreName\"].unique()]\n",
        "\n",
        "df = pd.get_dummies(df, columns=['BoxSize', \"Age\", 'StoreName'])"
      ]
    },
    {
      "cell_type": "code",
      "execution_count": 69,
      "metadata": {},
      "outputs": [],
      "source": [
        "y_name = \"Membership\"\n",
        "\n",
        "X = df.drop(y_name, axis=1)\n",
        "y = df[y_name]\n",
        "\n",
        "train_size_analyse = 0.2\n",
        "train_size_final = 0.9\n",
        "X_train, X_val, y_train, y_val = train_test_split(X, y,train_size=train_size_analyse, test_size=0.1, random_state=random_state)"
      ]
    },
    {
      "cell_type": "code",
      "execution_count": 70,
      "metadata": {},
      "outputs": [
        {
          "data": {
            "text/plain": [
              "['random_forest_model_membership_v1.joblib']"
            ]
          },
          "execution_count": 70,
          "metadata": {},
          "output_type": "execute_result"
        }
      ],
      "source": [
        "from sklearn.ensemble import RandomForestClassifier\n",
        "\n",
        "model = RandomForestClassifier(random_state=random_state, n_jobs=-1)  \n",
        "\n",
        "model.fit(X_train, y_train)\n",
        "\n",
        "joblib.dump(model, 'random_forest_model_membership_v1.joblib')"
      ]
    },
    {
      "cell_type": "code",
      "execution_count": 71,
      "metadata": {},
      "outputs": [
        {
          "name": "stdout",
          "output_type": "stream",
          "text": [
            "Accuracy: 0.7913420846923097\n",
            "Classification Report:\n",
            "              precision    recall  f1-score   support\n",
            "\n",
            "           0       0.79      0.90      0.84     23192\n",
            "           1       0.78      0.61      0.69     13907\n",
            "\n",
            "    accuracy                           0.79     37099\n",
            "   macro avg       0.79      0.76      0.77     37099\n",
            "weighted avg       0.79      0.79      0.78     37099\n",
            "\n",
            "Random state: 1117\n",
            "Train size: (74196, 28)\n",
            "X: Index(['EnterTime', 'LeaveTime', 'BoxSpending', 'MaleNumber', 'FemaleNumber',\n",
            "       'Duration(hours)', 'BoxSize_Big box', 'BoxSize_Large box',\n",
            "       'BoxSize_Large box (no toilet)', 'BoxSize_Medium box',\n",
            "       'BoxSize_PARTY big box', 'BoxSize_PARTY big box ',\n",
            "       'BoxSize_PARTY in the big box', 'BoxSize_PARTY medium the box',\n",
            "       'BoxSize_PARTY small box', 'BoxSize_Presidential package',\n",
            "       'BoxSize_Small box', 'Age_19 Below', 'Age_20~29', 'Age_30~39',\n",
            "       'Age_40~49', 'Age_50 Above', 'StoreName_Jia yi', 'StoreName_Kaohsiung',\n",
            "       'StoreName_Lin Sheng', 'StoreName_SOGO Store', 'StoreName_Tao Yuan',\n",
            "       'StoreName_Zhong Hua Xin dian'],\n",
            "      dtype='object')\n",
            "y: Membership\n",
            "BoxSpending : 0.28946546032653725\n",
            "LeaveTime : 0.14603722643713385\n",
            "EnterTime : 0.1437364770419326\n",
            "Duration(hours) : 0.14106037546839162\n",
            "FemaleNumber : 0.06397267584681769\n",
            "MaleNumber : 0.06385964435183768\n",
            "StoreName_Jia yi : 0.021757696271606074\n",
            "StoreName_Tao Yuan : 0.02103278672762251\n",
            "StoreName_Zhong Hua Xin dian : 0.012917825802561074\n",
            "StoreName_Lin Sheng : 0.012126528680366056\n",
            "StoreName_Kaohsiung : 0.011111732247035924\n",
            "Age_30~39 : 0.0091976026037761\n",
            "BoxSize_Small box : 0.008928760723190514\n",
            "StoreName_SOGO Store : 0.00865707311742435\n",
            "Age_20~29 : 0.00821821295742208\n",
            "BoxSize_Medium box : 0.006916541128229411\n",
            "Age_40~49 : 0.005870107572587183\n",
            "BoxSize_PARTY big box : 0.004855183923728223\n",
            "Age_19 Below : 0.004237251441967046\n",
            "Age_50 Above : 0.0037258314355834397\n",
            "BoxSize_PARTY medium the box : 0.00357461517558424\n",
            "BoxSize_PARTY big box  : 0.002433645308517394\n",
            "BoxSize_PARTY in the big box : 0.0020071759198534668\n",
            "BoxSize_Big box : 0.0016329175940520576\n",
            "BoxSize_PARTY small box : 0.001269297499325617\n",
            "BoxSize_Large box : 0.0010749499799269212\n",
            "BoxSize_Presidential package : 0.00021629062978408003\n",
            "BoxSize_Large box (no toilet) : 0.00010611378720542212\n"
          ]
        }
      ],
      "source": [
        "from sklearn.metrics import accuracy_score, classification_report\n",
        "import numpy as np\n",
        "\n",
        "y_pred = model.predict(X_val)\n",
        "\n",
        "# Calculate accuracy and classification report\n",
        "accuracy = accuracy_score(y_val, y_pred)\n",
        "class_report = classification_report(y_val, y_pred)\n",
        "\n",
        "# Print the accuracy and classification report\n",
        "print(f\"Accuracy: {accuracy}\")\n",
        "print(\"Classification Report:\")\n",
        "print(class_report)\n",
        "\n",
        "# Print additional model and training information\n",
        "print(f\"Random state: {random_state}\")              # Print the random state used for reproducibility\n",
        "print(f\"Train size: {X_train.shape}\")               # Print the size of the training dataset\n",
        "print(f\"X: {X_train.columns}\")                      # Print the names of the features\n",
        "print(f\"y: {y_name}\")                               # Print the name of the target variable\n",
        "\n",
        "# Feature importance calculation and display\n",
        "importances = model.feature_importances_\n",
        "indices = np.argsort(importances)[::-1]             # Sort feature importances in descending order\n",
        "\n",
        "# Print the importance of each feature\n",
        "for f in range(X.shape[1]): \n",
        "    print(f\"{X.columns[indices[f]]} : {importances[indices[f]]}\")\n"
      ]
    },
    {
      "cell_type": "code",
      "execution_count": 72,
      "metadata": {},
      "outputs": [
        {
          "name": "stdout",
          "output_type": "stream",
          "text": [
            "['EnterTime', 'LeaveTime', 'BoxSpending', 'MaleNumber', 'FemaleNumber', 'Duration(hours)']\n"
          ]
        }
      ],
      "source": [
        "importance_min = 0.05\n",
        "\n",
        "# Get the names of the top N features\n",
        "features_importantes = [X.columns[i] for i in range(len(importances)) if importances[i] > importance_min]\n",
        "\n",
        "print(features_importantes)"
      ]
    },
    {
      "cell_type": "code",
      "execution_count": 73,
      "metadata": {},
      "outputs": [],
      "source": [
        "X = df[features_importantes]\n",
        "y = df[y_name]\n",
        "\n",
        "X_train, X_val, y_train, y_val = train_test_split(X, y,train_size=train_size_final, test_size=0.1, random_state=random_state)"
      ]
    },
    {
      "cell_type": "code",
      "execution_count": 74,
      "metadata": {},
      "outputs": [
        {
          "data": {
            "text/plain": [
              "['random_forest_model_membership_v2.joblib']"
            ]
          },
          "execution_count": 74,
          "metadata": {},
          "output_type": "execute_result"
        }
      ],
      "source": [
        "model = RandomForestClassifier(random_state=random_state, n_jobs=-1)  \n",
        "\n",
        "model.fit(X_train, y_train)\n",
        "\n",
        "joblib.dump(model, 'random_forest_model_membership_v2.joblib')"
      ]
    },
    {
      "cell_type": "code",
      "execution_count": 75,
      "metadata": {},
      "outputs": [
        {
          "name": "stdout",
          "output_type": "stream",
          "text": [
            "Accuracy : 0.8325022237796167\n",
            "Classification Report :\n",
            "              precision    recall  f1-score   support\n",
            "\n",
            "           0       0.84      0.91      0.87     23192\n",
            "           1       0.82      0.70      0.76     13907\n",
            "\n",
            "    accuracy                           0.83     37099\n",
            "   macro avg       0.83      0.81      0.82     37099\n",
            "weighted avg       0.83      0.83      0.83     37099\n",
            "\n",
            "Random state: 1117\n",
            "Train size: (333885, 6)\n",
            "X: Index(['EnterTime', 'LeaveTime', 'BoxSpending', 'MaleNumber', 'FemaleNumber',\n",
            "       'Duration(hours)'],\n",
            "      dtype='object')\n",
            "y: Membership\n",
            "BoxSpending: 0.4520655777447792\n",
            "LeaveTime: 0.15410858899403143\n",
            "EnterTime: 0.15042986246830872\n",
            "Duration(hours): 0.1280352533506088\n",
            "MaleNumber: 0.059646093804773384\n",
            "FemaleNumber: 0.05571462363749856\n"
          ]
        }
      ],
      "source": [
        "from sklearn.metrics import accuracy_score, classification_report\n",
        "import numpy as np\n",
        "\n",
        "y_pred = model.predict(X_val)\n",
        "\n",
        "# Calculate accuracy and classification report\n",
        "accuracy = accuracy_score(y_val, y_pred)\n",
        "class_report = classification_report(y_val, y_pred)\n",
        "\n",
        "# Print the accuracy and classification report\n",
        "print(f\"Accuracy : {accuracy}\")\n",
        "print(\"Classification Report :\")\n",
        "print(class_report)\n",
        "\n",
        "# Print additional model and training information\n",
        "print(f\"Random state: {random_state}\")              # Print the random state used for reproducibility\n",
        "print(f\"Train size: {X_train.shape}\")               # Print the size of the training dataset\n",
        "print(f\"X: {X_train.columns}\")                      # Print the names of the features\n",
        "print(f\"y: {y_name}\")                               # Print the name of the target variable\n",
        "\n",
        "# Feature importance calculation and display\n",
        "importances = model.feature_importances_\n",
        "indices = np.argsort(importances)[::-1]             # Sort feature importances in descending order\n",
        "\n",
        "# Print the importance of each feature\n",
        "for f in range(X.shape[1]):\n",
        "    print(f\"{X.columns[indices[f]]}: {importances[indices[f]]}\")"
      ]
    },
    {
      "cell_type": "code",
      "execution_count": 76,
      "metadata": {},
      "outputs": [],
      "source": [
        "X = df[features_importantes].drop(\"Duration(hours)\" , axis=1)\n",
        "\n",
        "y = df[y_name]\n",
        "\n",
        "X_train, X_val, y_train, y_val = train_test_split(X, y,train_size=train_size_final, test_size=0.1, random_state=random_state)"
      ]
    },
    {
      "cell_type": "code",
      "execution_count": 77,
      "metadata": {},
      "outputs": [
        {
          "data": {
            "text/plain": [
              "['random_forest_model_membership_v3.joblib']"
            ]
          },
          "execution_count": 77,
          "metadata": {},
          "output_type": "execute_result"
        }
      ],
      "source": [
        "model = RandomForestClassifier(random_state=random_state, n_jobs=-1)  \n",
        "\n",
        "model.fit(X_train, y_train)\n",
        "\n",
        "joblib.dump(model, 'random_forest_model_membership_v3.joblib')"
      ]
    },
    {
      "cell_type": "code",
      "execution_count": 78,
      "metadata": {},
      "outputs": [
        {
          "name": "stdout",
          "output_type": "stream",
          "text": [
            "Accuracy: 0.8329874120596242\n",
            "Classification Report:\n",
            "              precision    recall  f1-score   support\n",
            "\n",
            "           0       0.84      0.91      0.87     23192\n",
            "           1       0.82      0.71      0.76     13907\n",
            "\n",
            "    accuracy                           0.83     37099\n",
            "   macro avg       0.83      0.81      0.82     37099\n",
            "weighted avg       0.83      0.83      0.83     37099\n",
            "\n",
            "Random state: 1117\n",
            "Train size: (333885, 5)\n",
            "X: Index(['EnterTime', 'LeaveTime', 'BoxSpending', 'MaleNumber', 'FemaleNumber'], dtype='object')\n",
            "y: Membership\n",
            "BoxSpending : 0.4980578681142921\n",
            "EnterTime : 0.19705031022309827\n",
            "LeaveTime : 0.1953936163707263\n",
            "MaleNumber : 0.055499794201480934\n",
            "FemaleNumber : 0.053998411090402515\n"
          ]
        }
      ],
      "source": [
        "from sklearn.metrics import accuracy_score, classification_report\n",
        "import numpy as np\n",
        "\n",
        "y_pred = model.predict(X_val)\n",
        "\n",
        "# Calculate accuracy and classification report\n",
        "accuracy = accuracy_score(y_val, y_pred)\n",
        "class_report = classification_report(y_val, y_pred)\n",
        "\n",
        "# Print the accuracy and classification report\n",
        "print(f\"Accuracy: {accuracy}\")\n",
        "print(\"Classification Report:\")\n",
        "print(class_report)\n",
        "\n",
        "# Print additional model and training information\n",
        "print(f\"Random state: {random_state}\")              # Print the random state used for reproducibility\n",
        "print(f\"Train size: {X_train.shape}\")               # Print the size of the training dataset\n",
        "print(f\"X: {X_train.columns}\")                      # Print the names of the features\n",
        "print(f\"y: {y_name}\")                               # Print the name of the target variable\n",
        "\n",
        "# Feature importance calculation and display\n",
        "importances = model.feature_importances_\n",
        "indices = np.argsort(importances)[::-1]             # Sort feature importances in descending order\n",
        "\n",
        "# Print the importance of each feature\n",
        "for f in range(X.shape[1]):\n",
        "    print(f\"{X.columns[indices[f]]} : {importances[indices[f]]}\")"
      ]
    }
  ],
  "metadata": {
    "colab": {
      "provenance": [],
      "toc_visible": true
    },
    "kernelspec": {
      "display_name": "venv",
      "language": "python",
      "name": "python3"
    },
    "language_info": {
      "codemirror_mode": {
        "name": "ipython",
        "version": 3
      },
      "file_extension": ".py",
      "mimetype": "text/x-python",
      "name": "python",
      "nbconvert_exporter": "python",
      "pygments_lexer": "ipython3",
      "version": "3.10.12"
    }
  },
  "nbformat": 4,
  "nbformat_minor": 0
}
