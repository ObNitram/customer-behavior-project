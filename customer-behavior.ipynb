{
  "cells": [
    {
      "cell_type": "code",
      "execution_count": 1,
      "metadata": {},
      "outputs": [],
      "source": [
        "import pandas as pd\n",
        "import numpy as np\n",
        "from sklearn.model_selection import train_test_split\n",
        "import joblib\n",
        "\n",
        "random_state = 1117"
      ]
    },
    {
      "cell_type": "code",
      "execution_count": 2,
      "metadata": {
        "colab": {
          "base_uri": "https://localhost:8080/",
          "height": 365
        },
        "id": "SADyxeDawfsk",
        "outputId": "45625953-5cc0-4e8f-fec6-d323a0da3383"
      },
      "outputs": [
        {
          "data": {
            "text/html": [
              "<div>\n",
              "<style scoped>\n",
              "    .dataframe tbody tr th:only-of-type {\n",
              "        vertical-align: middle;\n",
              "    }\n",
              "\n",
              "    .dataframe tbody tr th {\n",
              "        vertical-align: top;\n",
              "    }\n",
              "\n",
              "    .dataframe thead th {\n",
              "        text-align: right;\n",
              "    }\n",
              "</style>\n",
              "<table border=\"1\" class=\"dataframe\">\n",
              "  <thead>\n",
              "    <tr style=\"text-align: right;\">\n",
              "      <th></th>\n",
              "      <th>StoreCode</th>\n",
              "      <th>BillCode</th>\n",
              "      <th>EnterTime</th>\n",
              "      <th>LeaveTime</th>\n",
              "      <th>BoxSize</th>\n",
              "      <th>MealType</th>\n",
              "      <th>OrderTime</th>\n",
              "      <th>MealSpending</th>\n",
              "      <th>BoxSpending</th>\n",
              "      <th>CustomerNumber</th>\n",
              "      <th>MaleNumber</th>\n",
              "      <th>FemaleNumber</th>\n",
              "      <th>Age</th>\n",
              "      <th>Membership</th>\n",
              "    </tr>\n",
              "  </thead>\n",
              "  <tbody>\n",
              "    <tr>\n",
              "      <th>0</th>\n",
              "      <td>107</td>\n",
              "      <td>1602010011</td>\n",
              "      <td>2016-02-01 00:49:00</td>\n",
              "      <td>2016-02-01 06:01:00</td>\n",
              "      <td>Small box</td>\n",
              "      <td>Light Meal</td>\n",
              "      <td>2016-02-01 01:04:13</td>\n",
              "      <td>114</td>\n",
              "      <td>2857</td>\n",
              "      <td>6</td>\n",
              "      <td>3</td>\n",
              "      <td>3</td>\n",
              "      <td>30~39</td>\n",
              "      <td>0</td>\n",
              "    </tr>\n",
              "    <tr>\n",
              "      <th>1</th>\n",
              "      <td>107</td>\n",
              "      <td>1602010011</td>\n",
              "      <td>2016-02-01 00:49:00</td>\n",
              "      <td>2016-02-01 06:01:00</td>\n",
              "      <td>Small box</td>\n",
              "      <td>Project Package</td>\n",
              "      <td>2016-02-01 01:43:29</td>\n",
              "      <td>380</td>\n",
              "      <td>2857</td>\n",
              "      <td>6</td>\n",
              "      <td>3</td>\n",
              "      <td>3</td>\n",
              "      <td>30~39</td>\n",
              "      <td>0</td>\n",
              "    </tr>\n",
              "    <tr>\n",
              "      <th>2</th>\n",
              "      <td>107</td>\n",
              "      <td>1602010011</td>\n",
              "      <td>2016-02-01 00:49:00</td>\n",
              "      <td>2016-02-01 06:01:00</td>\n",
              "      <td>Small box</td>\n",
              "      <td>Beer</td>\n",
              "      <td>2016-02-01 02:17:11</td>\n",
              "      <td>280</td>\n",
              "      <td>2857</td>\n",
              "      <td>6</td>\n",
              "      <td>3</td>\n",
              "      <td>3</td>\n",
              "      <td>30~39</td>\n",
              "      <td>0</td>\n",
              "    </tr>\n",
              "    <tr>\n",
              "      <th>3</th>\n",
              "      <td>107</td>\n",
              "      <td>1602010011</td>\n",
              "      <td>2016-02-01 00:49:00</td>\n",
              "      <td>2016-02-01 06:01:00</td>\n",
              "      <td>Small box</td>\n",
              "      <td>Beverages (not including wine)</td>\n",
              "      <td>2016-02-01 01:04:13</td>\n",
              "      <td>210</td>\n",
              "      <td>2857</td>\n",
              "      <td>6</td>\n",
              "      <td>3</td>\n",
              "      <td>3</td>\n",
              "      <td>30~39</td>\n",
              "      <td>0</td>\n",
              "    </tr>\n",
              "    <tr>\n",
              "      <th>4</th>\n",
              "      <td>107</td>\n",
              "      <td>1602010011</td>\n",
              "      <td>2016-02-01 00:49:00</td>\n",
              "      <td>2016-02-01 06:01:00</td>\n",
              "      <td>Small box</td>\n",
              "      <td>Fruit</td>\n",
              "      <td>2016-02-01 01:43:29</td>\n",
              "      <td>343</td>\n",
              "      <td>2857</td>\n",
              "      <td>6</td>\n",
              "      <td>3</td>\n",
              "      <td>3</td>\n",
              "      <td>30~39</td>\n",
              "      <td>0</td>\n",
              "    </tr>\n",
              "    <tr>\n",
              "      <th>5</th>\n",
              "      <td>107</td>\n",
              "      <td>1602010011</td>\n",
              "      <td>2016-02-01 00:49:00</td>\n",
              "      <td>2016-02-01 06:01:00</td>\n",
              "      <td>Small box</td>\n",
              "      <td>Dessert</td>\n",
              "      <td>2016-02-01 01:04:13</td>\n",
              "      <td>219</td>\n",
              "      <td>2857</td>\n",
              "      <td>6</td>\n",
              "      <td>3</td>\n",
              "      <td>3</td>\n",
              "      <td>30~39</td>\n",
              "      <td>0</td>\n",
              "    </tr>\n",
              "    <tr>\n",
              "      <th>6</th>\n",
              "      <td>107</td>\n",
              "      <td>1602010011</td>\n",
              "      <td>2016-02-01 00:49:00</td>\n",
              "      <td>2016-02-01 06:01:00</td>\n",
              "      <td>Small box</td>\n",
              "      <td>Light Meal</td>\n",
              "      <td>2016-02-01 01:43:29</td>\n",
              "      <td>266</td>\n",
              "      <td>2857</td>\n",
              "      <td>6</td>\n",
              "      <td>3</td>\n",
              "      <td>3</td>\n",
              "      <td>30~39</td>\n",
              "      <td>0</td>\n",
              "    </tr>\n",
              "    <tr>\n",
              "      <th>7</th>\n",
              "      <td>107</td>\n",
              "      <td>1602010011</td>\n",
              "      <td>2016-02-01 00:49:00</td>\n",
              "      <td>2016-02-01 06:01:00</td>\n",
              "      <td>Small box</td>\n",
              "      <td>Beer</td>\n",
              "      <td>2016-02-01 03:43:42</td>\n",
              "      <td>280</td>\n",
              "      <td>2857</td>\n",
              "      <td>6</td>\n",
              "      <td>3</td>\n",
              "      <td>3</td>\n",
              "      <td>30~39</td>\n",
              "      <td>0</td>\n",
              "    </tr>\n",
              "    <tr>\n",
              "      <th>8</th>\n",
              "      <td>107</td>\n",
              "      <td>1602010011</td>\n",
              "      <td>2016-02-01 00:49:00</td>\n",
              "      <td>2016-02-01 06:01:00</td>\n",
              "      <td>Small box</td>\n",
              "      <td>Dessert</td>\n",
              "      <td>2016-02-01 04:15:54</td>\n",
              "      <td>238</td>\n",
              "      <td>2857</td>\n",
              "      <td>6</td>\n",
              "      <td>3</td>\n",
              "      <td>3</td>\n",
              "      <td>30~39</td>\n",
              "      <td>0</td>\n",
              "    </tr>\n",
              "    <tr>\n",
              "      <th>9</th>\n",
              "      <td>107</td>\n",
              "      <td>1602010011</td>\n",
              "      <td>2016-02-01 00:49:00</td>\n",
              "      <td>2016-02-01 06:01:00</td>\n",
              "      <td>Small box</td>\n",
              "      <td>Light Meal</td>\n",
              "      <td>2016-02-01 01:43:29</td>\n",
              "      <td>343</td>\n",
              "      <td>2857</td>\n",
              "      <td>6</td>\n",
              "      <td>3</td>\n",
              "      <td>3</td>\n",
              "      <td>30~39</td>\n",
              "      <td>0</td>\n",
              "    </tr>\n",
              "  </tbody>\n",
              "</table>\n",
              "</div>"
            ],
            "text/plain": [
              "  StoreCode    BillCode            EnterTime            LeaveTime    BoxSize  \\\n",
              "0       107  1602010011  2016-02-01 00:49:00  2016-02-01 06:01:00  Small box   \n",
              "1       107  1602010011  2016-02-01 00:49:00  2016-02-01 06:01:00  Small box   \n",
              "2       107  1602010011  2016-02-01 00:49:00  2016-02-01 06:01:00  Small box   \n",
              "3       107  1602010011  2016-02-01 00:49:00  2016-02-01 06:01:00  Small box   \n",
              "4       107  1602010011  2016-02-01 00:49:00  2016-02-01 06:01:00  Small box   \n",
              "5       107  1602010011  2016-02-01 00:49:00  2016-02-01 06:01:00  Small box   \n",
              "6       107  1602010011  2016-02-01 00:49:00  2016-02-01 06:01:00  Small box   \n",
              "7       107  1602010011  2016-02-01 00:49:00  2016-02-01 06:01:00  Small box   \n",
              "8       107  1602010011  2016-02-01 00:49:00  2016-02-01 06:01:00  Small box   \n",
              "9       107  1602010011  2016-02-01 00:49:00  2016-02-01 06:01:00  Small box   \n",
              "\n",
              "                         MealType            OrderTime  MealSpending  \\\n",
              "0                      Light Meal  2016-02-01 01:04:13           114   \n",
              "1                 Project Package  2016-02-01 01:43:29           380   \n",
              "2                            Beer  2016-02-01 02:17:11           280   \n",
              "3  Beverages (not including wine)  2016-02-01 01:04:13           210   \n",
              "4                           Fruit  2016-02-01 01:43:29           343   \n",
              "5                         Dessert  2016-02-01 01:04:13           219   \n",
              "6                      Light Meal  2016-02-01 01:43:29           266   \n",
              "7                            Beer  2016-02-01 03:43:42           280   \n",
              "8                         Dessert  2016-02-01 04:15:54           238   \n",
              "9                      Light Meal  2016-02-01 01:43:29           343   \n",
              "\n",
              "   BoxSpending  CustomerNumber  MaleNumber  FemaleNumber    Age  Membership  \n",
              "0         2857               6           3             3  30~39           0  \n",
              "1         2857               6           3             3  30~39           0  \n",
              "2         2857               6           3             3  30~39           0  \n",
              "3         2857               6           3             3  30~39           0  \n",
              "4         2857               6           3             3  30~39           0  \n",
              "5         2857               6           3             3  30~39           0  \n",
              "6         2857               6           3             3  30~39           0  \n",
              "7         2857               6           3             3  30~39           0  \n",
              "8         2857               6           3             3  30~39           0  \n",
              "9         2857               6           3             3  30~39           0  "
            ]
          },
          "execution_count": 2,
          "metadata": {},
          "output_type": "execute_result"
        }
      ],
      "source": [
        "try: # If you are running this notebook on your local machine\n",
        "  # Put the path to your CSV file here\n",
        "  file_name = \"./Customerbehavior_Final.csv\"\n",
        "  df = pd.read_csv(file_name, index_col=0, low_memory=False)\n",
        "except : # If you are running this notebook on Google Colab\n",
        "  from google.colab import drive\n",
        "  drive.mount('/content/drive')\n",
        "  # Put the path to your CSV file here\n",
        "  file_name = \"./drive/MyDrive/Data-IA/Customerbehavior_Final.csv\"\n",
        "  df = pd.read_csv(file_name, index_col=0, low_memory=False)\n",
        "\n",
        "df.head(10)"
      ]
    },
    {
      "cell_type": "markdown",
      "metadata": {
        "id": "fhC5mFgg9aQV"
      },
      "source": [
        "# Data preparation"
      ]
    },
    {
      "cell_type": "code",
      "execution_count": 3,
      "metadata": {
        "colab": {
          "base_uri": "https://localhost:8080/"
        },
        "id": "8zfdLCy4wfsl",
        "outputId": "b349990c-2048-4828-b2b7-16bb20e6c330"
      },
      "outputs": [
        {
          "data": {
            "text/plain": [
              "StoreCode         0\n",
              "BillCode          0\n",
              "EnterTime         0\n",
              "LeaveTime         0\n",
              "BoxSize           0\n",
              "MealType          0\n",
              "OrderTime         0\n",
              "MealSpending      0\n",
              "BoxSpending       0\n",
              "CustomerNumber    0\n",
              "MaleNumber        0\n",
              "FemaleNumber      0\n",
              "Age               0\n",
              "Membership        0\n",
              "dtype: int64"
            ]
          },
          "execution_count": 3,
          "metadata": {},
          "output_type": "execute_result"
        }
      ],
      "source": [
        "df.isnull().sum()"
      ]
    },
    {
      "cell_type": "markdown",
      "metadata": {
        "id": "U089AnKBwfsl"
      },
      "source": [
        "## Apply complete store name"
      ]
    },
    {
      "cell_type": "code",
      "execution_count": 4,
      "metadata": {
        "colab": {
          "base_uri": "https://localhost:8080/",
          "height": 347
        },
        "id": "Op-6qR1zwfsm",
        "outputId": "1f415c9b-ecca-4140-b68f-58f93c2655d3"
      },
      "outputs": [
        {
          "name": "stdout",
          "output_type": "stream",
          "text": [
            "StoreCode\n",
            "114     708661\n",
            "K01     593878\n",
            "107     573672\n",
            "108     456546\n",
            "0114    299265\n",
            "113     202004\n",
            "0107    179701\n",
            "112     156269\n",
            "Name: count, dtype: int64\n",
            "StoreCode\n",
            "114.0    1007926\n",
            "107.0     753373\n",
            "NaN       593878\n",
            "108.0     456546\n",
            "113.0     202004\n",
            "112.0     156269\n",
            "Name: count, dtype: int64\n",
            "StoreName\n",
            "Zhong Hua Xin dian    1007926\n",
            "SOGO Store             753373\n",
            "Lin Sheng              593878\n",
            "Tao Yuan               456546\n",
            "Kaohsiung              202004\n",
            "Jia yi                 156269\n",
            "Name: count, dtype: int64\n"
          ]
        }
      ],
      "source": [
        "def store_name(value):\n",
        "    if value == 107: return 'SOGO Store'\n",
        "    elif value == 108: return 'Tao Yuan'\n",
        "    elif value == 112: return 'Jia yi'\n",
        "    elif value == 113: return 'Kaohsiung'\n",
        "    elif value == 114: return 'Zhong Hua Xin dian'\n",
        "    else: return 'Lin Sheng'\n",
        "\n",
        "print(df[\"StoreCode\"].value_counts(dropna=False))\n",
        "\n",
        "df[\"StoreCode\"] = pd.to_numeric(df[\"StoreCode\"], errors='coerce')\n",
        "df['StoreName'] = df['StoreCode'].apply(store_name)\n",
        "\n",
        "print(df[\"StoreCode\"].value_counts(dropna=False))\n",
        "print(df[\"StoreName\"].value_counts(dropna=False))"
      ]
    },
    {
      "cell_type": "markdown",
      "metadata": {
        "id": "B6w9KybHwfsm"
      },
      "source": [
        "## Create UniqueID"
      ]
    },
    {
      "cell_type": "code",
      "execution_count": 5,
      "metadata": {
        "colab": {
          "base_uri": "https://localhost:8080/",
          "height": 347
        },
        "id": "xAmjUGN_wfsm",
        "outputId": "c3442c54-c75a-467b-d922-aaa6d5ac832e"
      },
      "outputs": [
        {
          "data": {
            "text/html": [
              "<div>\n",
              "<style scoped>\n",
              "    .dataframe tbody tr th:only-of-type {\n",
              "        vertical-align: middle;\n",
              "    }\n",
              "\n",
              "    .dataframe tbody tr th {\n",
              "        vertical-align: top;\n",
              "    }\n",
              "\n",
              "    .dataframe thead th {\n",
              "        text-align: right;\n",
              "    }\n",
              "</style>\n",
              "<table border=\"1\" class=\"dataframe\">\n",
              "  <thead>\n",
              "    <tr style=\"text-align: right;\">\n",
              "      <th></th>\n",
              "      <th>BillCode</th>\n",
              "      <th>EnterTime</th>\n",
              "      <th>LeaveTime</th>\n",
              "      <th>BoxSize</th>\n",
              "      <th>MealType</th>\n",
              "      <th>OrderTime</th>\n",
              "      <th>MealSpending</th>\n",
              "      <th>BoxSpending</th>\n",
              "      <th>CustomerNumber</th>\n",
              "      <th>MaleNumber</th>\n",
              "      <th>FemaleNumber</th>\n",
              "      <th>Age</th>\n",
              "      <th>Membership</th>\n",
              "      <th>StoreName</th>\n",
              "      <th>UniqueID</th>\n",
              "    </tr>\n",
              "  </thead>\n",
              "  <tbody>\n",
              "    <tr>\n",
              "      <th>0</th>\n",
              "      <td>1602010011</td>\n",
              "      <td>2016-02-01 00:49:00</td>\n",
              "      <td>2016-02-01 06:01:00</td>\n",
              "      <td>Small box</td>\n",
              "      <td>Light Meal</td>\n",
              "      <td>2016-02-01 01:04:13</td>\n",
              "      <td>114</td>\n",
              "      <td>2857</td>\n",
              "      <td>6</td>\n",
              "      <td>3</td>\n",
              "      <td>3</td>\n",
              "      <td>30~39</td>\n",
              "      <td>0</td>\n",
              "      <td>SOGO Store</td>\n",
              "      <td>1602010011107.0</td>\n",
              "    </tr>\n",
              "    <tr>\n",
              "      <th>1</th>\n",
              "      <td>1602010011</td>\n",
              "      <td>2016-02-01 00:49:00</td>\n",
              "      <td>2016-02-01 06:01:00</td>\n",
              "      <td>Small box</td>\n",
              "      <td>Project Package</td>\n",
              "      <td>2016-02-01 01:43:29</td>\n",
              "      <td>380</td>\n",
              "      <td>2857</td>\n",
              "      <td>6</td>\n",
              "      <td>3</td>\n",
              "      <td>3</td>\n",
              "      <td>30~39</td>\n",
              "      <td>0</td>\n",
              "      <td>SOGO Store</td>\n",
              "      <td>1602010011107.0</td>\n",
              "    </tr>\n",
              "    <tr>\n",
              "      <th>2</th>\n",
              "      <td>1602010011</td>\n",
              "      <td>2016-02-01 00:49:00</td>\n",
              "      <td>2016-02-01 06:01:00</td>\n",
              "      <td>Small box</td>\n",
              "      <td>Beer</td>\n",
              "      <td>2016-02-01 02:17:11</td>\n",
              "      <td>280</td>\n",
              "      <td>2857</td>\n",
              "      <td>6</td>\n",
              "      <td>3</td>\n",
              "      <td>3</td>\n",
              "      <td>30~39</td>\n",
              "      <td>0</td>\n",
              "      <td>SOGO Store</td>\n",
              "      <td>1602010011107.0</td>\n",
              "    </tr>\n",
              "    <tr>\n",
              "      <th>3</th>\n",
              "      <td>1602010011</td>\n",
              "      <td>2016-02-01 00:49:00</td>\n",
              "      <td>2016-02-01 06:01:00</td>\n",
              "      <td>Small box</td>\n",
              "      <td>Beverages (not including wine)</td>\n",
              "      <td>2016-02-01 01:04:13</td>\n",
              "      <td>210</td>\n",
              "      <td>2857</td>\n",
              "      <td>6</td>\n",
              "      <td>3</td>\n",
              "      <td>3</td>\n",
              "      <td>30~39</td>\n",
              "      <td>0</td>\n",
              "      <td>SOGO Store</td>\n",
              "      <td>1602010011107.0</td>\n",
              "    </tr>\n",
              "    <tr>\n",
              "      <th>4</th>\n",
              "      <td>1602010011</td>\n",
              "      <td>2016-02-01 00:49:00</td>\n",
              "      <td>2016-02-01 06:01:00</td>\n",
              "      <td>Small box</td>\n",
              "      <td>Fruit</td>\n",
              "      <td>2016-02-01 01:43:29</td>\n",
              "      <td>343</td>\n",
              "      <td>2857</td>\n",
              "      <td>6</td>\n",
              "      <td>3</td>\n",
              "      <td>3</td>\n",
              "      <td>30~39</td>\n",
              "      <td>0</td>\n",
              "      <td>SOGO Store</td>\n",
              "      <td>1602010011107.0</td>\n",
              "    </tr>\n",
              "  </tbody>\n",
              "</table>\n",
              "</div>"
            ],
            "text/plain": [
              "     BillCode            EnterTime            LeaveTime    BoxSize  \\\n",
              "0  1602010011  2016-02-01 00:49:00  2016-02-01 06:01:00  Small box   \n",
              "1  1602010011  2016-02-01 00:49:00  2016-02-01 06:01:00  Small box   \n",
              "2  1602010011  2016-02-01 00:49:00  2016-02-01 06:01:00  Small box   \n",
              "3  1602010011  2016-02-01 00:49:00  2016-02-01 06:01:00  Small box   \n",
              "4  1602010011  2016-02-01 00:49:00  2016-02-01 06:01:00  Small box   \n",
              "\n",
              "                         MealType            OrderTime  MealSpending  \\\n",
              "0                      Light Meal  2016-02-01 01:04:13           114   \n",
              "1                 Project Package  2016-02-01 01:43:29           380   \n",
              "2                            Beer  2016-02-01 02:17:11           280   \n",
              "3  Beverages (not including wine)  2016-02-01 01:04:13           210   \n",
              "4                           Fruit  2016-02-01 01:43:29           343   \n",
              "\n",
              "   BoxSpending  CustomerNumber  MaleNumber  FemaleNumber    Age  Membership  \\\n",
              "0         2857               6           3             3  30~39           0   \n",
              "1         2857               6           3             3  30~39           0   \n",
              "2         2857               6           3             3  30~39           0   \n",
              "3         2857               6           3             3  30~39           0   \n",
              "4         2857               6           3             3  30~39           0   \n",
              "\n",
              "    StoreName         UniqueID  \n",
              "0  SOGO Store  1602010011107.0  \n",
              "1  SOGO Store  1602010011107.0  \n",
              "2  SOGO Store  1602010011107.0  \n",
              "3  SOGO Store  1602010011107.0  \n",
              "4  SOGO Store  1602010011107.0  "
            ]
          },
          "execution_count": 5,
          "metadata": {},
          "output_type": "execute_result"
        }
      ],
      "source": [
        "# Create \"UniqueID\" columns by concatenating StoreCode and BillCode\n",
        "df[\"UniqueID\"] = df['BillCode'].astype(str) + df['StoreCode'].astype(str)\n",
        "df.drop(['StoreCode'], axis=1, inplace=True)\n",
        "df.head()"
      ]
    },
    {
      "cell_type": "markdown",
      "metadata": {
        "id": "Ct1GITepwfsm"
      },
      "source": [
        "## Change date string to date pandas object"
      ]
    },
    {
      "cell_type": "code",
      "execution_count": 6,
      "metadata": {
        "id": "F6hpxVm3wfsm"
      },
      "outputs": [],
      "source": [
        "# Create function to format the time stamp to date-time object\n",
        "# def get_time(value):\n",
        "#     temp = str.replace(value, \"/\", \"-\")\n",
        "#     count1 = temp.count(\":\")\n",
        "#     if count1 == 1: temp = temp + \":00\"\n",
        "#     return datetime.strptime(temp, \"%Y-%m-%d %H:%M:%S\")\n",
        "\n",
        "# # Create new Time columns containing date-time object format\n",
        "# df[\"TimeEnter\"] = df[\"EnterTime\"].apply(get_time)\n",
        "# df[\"TimeLeave\"] = df[\"LeaveTime\"].apply(get_time)\n",
        "# df[\"TimeOrder\"] = df[\"OrderTime\"].apply(get_time)"
      ]
    },
    {
      "cell_type": "code",
      "execution_count": 7,
      "metadata": {
        "id": "mIF3FH8Xwfsm"
      },
      "outputs": [],
      "source": [
        "# The methods below are more efficient than 'apply' as they utilize pandas vectorized operations\n",
        "# for string manipulation and datetime conversion,\n",
        "# which are optimized for performance on entire columns.\n",
        "df['EnterTime'] = df['EnterTime'].str.replace(\"/\", \"-\").str.pad(19, side='right', fillchar='0')\n",
        "df['LeaveTime'] = df['LeaveTime'].str.replace(\"/\", \"-\").str.pad(19, side='right', fillchar='0')\n",
        "df['OrderTime'] = df['OrderTime'].str.replace(\"/\", \"-\").str.pad(19, side='right', fillchar='0')\n",
        "\n",
        "df[\"EnterTime\"] = pd.to_datetime(df[\"EnterTime\"], format=\"%Y-%m-%d %H:%M:%S\")\n",
        "df[\"LeaveTime\"] = pd.to_datetime(df[\"LeaveTime\"], format=\"%Y-%m-%d %H:%M:%S\")\n",
        "df[\"OrderTime\"] = pd.to_datetime(df[\"OrderTime\"], format=\"%Y-%m-%d %H:%M:%S\")"
      ]
    },
    {
      "cell_type": "code",
      "execution_count": 8,
      "metadata": {
        "colab": {
          "base_uri": "https://localhost:8080/",
          "height": 347
        },
        "id": "6gvyexZCwfsm",
        "outputId": "01ccf797-59ac-42c1-fa20-d4ad78040a54"
      },
      "outputs": [
        {
          "data": {
            "text/html": [
              "<div>\n",
              "<style scoped>\n",
              "    .dataframe tbody tr th:only-of-type {\n",
              "        vertical-align: middle;\n",
              "    }\n",
              "\n",
              "    .dataframe tbody tr th {\n",
              "        vertical-align: top;\n",
              "    }\n",
              "\n",
              "    .dataframe thead th {\n",
              "        text-align: right;\n",
              "    }\n",
              "</style>\n",
              "<table border=\"1\" class=\"dataframe\">\n",
              "  <thead>\n",
              "    <tr style=\"text-align: right;\">\n",
              "      <th></th>\n",
              "      <th>BillCode</th>\n",
              "      <th>EnterTime</th>\n",
              "      <th>LeaveTime</th>\n",
              "      <th>BoxSize</th>\n",
              "      <th>MealType</th>\n",
              "      <th>OrderTime</th>\n",
              "      <th>MealSpending</th>\n",
              "      <th>BoxSpending</th>\n",
              "      <th>CustomerNumber</th>\n",
              "      <th>MaleNumber</th>\n",
              "      <th>FemaleNumber</th>\n",
              "      <th>Age</th>\n",
              "      <th>Membership</th>\n",
              "      <th>StoreName</th>\n",
              "      <th>UniqueID</th>\n",
              "      <th>Duration(hours)</th>\n",
              "    </tr>\n",
              "  </thead>\n",
              "  <tbody>\n",
              "    <tr>\n",
              "      <th>0</th>\n",
              "      <td>1602010011</td>\n",
              "      <td>2016-02-01 00:49:00</td>\n",
              "      <td>2016-02-01 06:01:00</td>\n",
              "      <td>Small box</td>\n",
              "      <td>Light Meal</td>\n",
              "      <td>2016-02-01 01:04:13</td>\n",
              "      <td>114</td>\n",
              "      <td>2857</td>\n",
              "      <td>6</td>\n",
              "      <td>3</td>\n",
              "      <td>3</td>\n",
              "      <td>30~39</td>\n",
              "      <td>0</td>\n",
              "      <td>SOGO Store</td>\n",
              "      <td>1602010011107.0</td>\n",
              "      <td>5.2</td>\n",
              "    </tr>\n",
              "    <tr>\n",
              "      <th>1</th>\n",
              "      <td>1602010011</td>\n",
              "      <td>2016-02-01 00:49:00</td>\n",
              "      <td>2016-02-01 06:01:00</td>\n",
              "      <td>Small box</td>\n",
              "      <td>Project Package</td>\n",
              "      <td>2016-02-01 01:43:29</td>\n",
              "      <td>380</td>\n",
              "      <td>2857</td>\n",
              "      <td>6</td>\n",
              "      <td>3</td>\n",
              "      <td>3</td>\n",
              "      <td>30~39</td>\n",
              "      <td>0</td>\n",
              "      <td>SOGO Store</td>\n",
              "      <td>1602010011107.0</td>\n",
              "      <td>5.2</td>\n",
              "    </tr>\n",
              "    <tr>\n",
              "      <th>2</th>\n",
              "      <td>1602010011</td>\n",
              "      <td>2016-02-01 00:49:00</td>\n",
              "      <td>2016-02-01 06:01:00</td>\n",
              "      <td>Small box</td>\n",
              "      <td>Beer</td>\n",
              "      <td>2016-02-01 02:17:11</td>\n",
              "      <td>280</td>\n",
              "      <td>2857</td>\n",
              "      <td>6</td>\n",
              "      <td>3</td>\n",
              "      <td>3</td>\n",
              "      <td>30~39</td>\n",
              "      <td>0</td>\n",
              "      <td>SOGO Store</td>\n",
              "      <td>1602010011107.0</td>\n",
              "      <td>5.2</td>\n",
              "    </tr>\n",
              "    <tr>\n",
              "      <th>3</th>\n",
              "      <td>1602010011</td>\n",
              "      <td>2016-02-01 00:49:00</td>\n",
              "      <td>2016-02-01 06:01:00</td>\n",
              "      <td>Small box</td>\n",
              "      <td>Beverages (not including wine)</td>\n",
              "      <td>2016-02-01 01:04:13</td>\n",
              "      <td>210</td>\n",
              "      <td>2857</td>\n",
              "      <td>6</td>\n",
              "      <td>3</td>\n",
              "      <td>3</td>\n",
              "      <td>30~39</td>\n",
              "      <td>0</td>\n",
              "      <td>SOGO Store</td>\n",
              "      <td>1602010011107.0</td>\n",
              "      <td>5.2</td>\n",
              "    </tr>\n",
              "    <tr>\n",
              "      <th>4</th>\n",
              "      <td>1602010011</td>\n",
              "      <td>2016-02-01 00:49:00</td>\n",
              "      <td>2016-02-01 06:01:00</td>\n",
              "      <td>Small box</td>\n",
              "      <td>Fruit</td>\n",
              "      <td>2016-02-01 01:43:29</td>\n",
              "      <td>343</td>\n",
              "      <td>2857</td>\n",
              "      <td>6</td>\n",
              "      <td>3</td>\n",
              "      <td>3</td>\n",
              "      <td>30~39</td>\n",
              "      <td>0</td>\n",
              "      <td>SOGO Store</td>\n",
              "      <td>1602010011107.0</td>\n",
              "      <td>5.2</td>\n",
              "    </tr>\n",
              "  </tbody>\n",
              "</table>\n",
              "</div>"
            ],
            "text/plain": [
              "     BillCode           EnterTime           LeaveTime    BoxSize  \\\n",
              "0  1602010011 2016-02-01 00:49:00 2016-02-01 06:01:00  Small box   \n",
              "1  1602010011 2016-02-01 00:49:00 2016-02-01 06:01:00  Small box   \n",
              "2  1602010011 2016-02-01 00:49:00 2016-02-01 06:01:00  Small box   \n",
              "3  1602010011 2016-02-01 00:49:00 2016-02-01 06:01:00  Small box   \n",
              "4  1602010011 2016-02-01 00:49:00 2016-02-01 06:01:00  Small box   \n",
              "\n",
              "                         MealType           OrderTime  MealSpending  \\\n",
              "0                      Light Meal 2016-02-01 01:04:13           114   \n",
              "1                 Project Package 2016-02-01 01:43:29           380   \n",
              "2                            Beer 2016-02-01 02:17:11           280   \n",
              "3  Beverages (not including wine) 2016-02-01 01:04:13           210   \n",
              "4                           Fruit 2016-02-01 01:43:29           343   \n",
              "\n",
              "   BoxSpending  CustomerNumber  MaleNumber  FemaleNumber    Age  Membership  \\\n",
              "0         2857               6           3             3  30~39           0   \n",
              "1         2857               6           3             3  30~39           0   \n",
              "2         2857               6           3             3  30~39           0   \n",
              "3         2857               6           3             3  30~39           0   \n",
              "4         2857               6           3             3  30~39           0   \n",
              "\n",
              "    StoreName         UniqueID  Duration(hours)  \n",
              "0  SOGO Store  1602010011107.0              5.2  \n",
              "1  SOGO Store  1602010011107.0              5.2  \n",
              "2  SOGO Store  1602010011107.0              5.2  \n",
              "3  SOGO Store  1602010011107.0              5.2  \n",
              "4  SOGO Store  1602010011107.0              5.2  "
            ]
          },
          "execution_count": 8,
          "metadata": {},
          "output_type": "execute_result"
        }
      ],
      "source": [
        "df[\"Duration(hours)\"] = (df[\"LeaveTime\"] - df[\"EnterTime\"]) / np.timedelta64(1, 's') / 3600\n",
        "df.head()"
      ]
    },
    {
      "cell_type": "markdown",
      "metadata": {
        "id": "88QhqiuLAia-"
      },
      "source": [
        "## Caching"
      ]
    },
    {
      "cell_type": "code",
      "execution_count": 9,
      "metadata": {
        "id": "lc54tilNAmRC"
      },
      "outputs": [],
      "source": [
        "df.to_feather('./Customerbehavior_Final.feather')"
      ]
    },
    {
      "cell_type": "code",
      "execution_count": 10,
      "metadata": {
        "colab": {
          "base_uri": "https://localhost:8080/"
        },
        "id": "q9y-ASnRAoOj",
        "outputId": "bdedc044-27a5-47c5-c3cc-aafe1ab370c0"
      },
      "outputs": [
        {
          "data": {
            "text/plain": [
              "Index(['BillCode', 'EnterTime', 'LeaveTime', 'BoxSize', 'MealType',\n",
              "       'OrderTime', 'MealSpending', 'BoxSpending', 'CustomerNumber',\n",
              "       'MaleNumber', 'FemaleNumber', 'Age', 'Membership', 'StoreName',\n",
              "       'UniqueID', 'Duration(hours)'],\n",
              "      dtype='object')"
            ]
          },
          "execution_count": 10,
          "metadata": {},
          "output_type": "execute_result"
        }
      ],
      "source": [
        "df = pd.read_feather('./Customerbehavior_Final.feather')\n",
        "df.columns"
      ]
    },
    {
      "cell_type": "markdown",
      "metadata": {
        "id": "RRJCaop59K8N"
      },
      "source": [
        "# Plotting"
      ]
    },
    {
      "cell_type": "code",
      "execution_count": null,
      "metadata": {
        "id": "aDOhB-4Xwfsm"
      },
      "outputs": [],
      "source": []
    },
    {
      "cell_type": "markdown",
      "metadata": {
        "id": "nYLiibPD9QTl"
      },
      "source": [
        "# IA\n"
      ]
    },
    {
      "cell_type": "markdown",
      "metadata": {},
      "source": [
        "## Duration"
      ]
    },
    {
      "cell_type": "code",
      "execution_count": 11,
      "metadata": {},
      "outputs": [],
      "source": [
        "# Reset the dataframe\n",
        "df = pd.read_feather('./Customerbehavior_Final.feather')\n",
        "\n",
        "# Drop duplicate \n",
        "df.drop_duplicates(subset='UniqueID', keep='first', inplace=True)\n",
        "\n",
        "df.drop([\"Duration(hours)\", \"UniqueID\", \"MealType\", \"MealSpending\", \"OrderTime\", \"BillCode\", \"BoxSpending\"], axis=1, inplace=True)\n",
        "\n",
        "df[\"EnterTime\"] = df['EnterTime'].dt.hour * 60 + df['EnterTime'].dt.minute\n",
        "df[\"LeaveTime\"] = df['LeaveTime'].dt.hour * 60 + df['LeaveTime'].dt.minute\n",
        "\n",
        "column_box = ['BoxSize_' + x for x in df[\"BoxSize\"].unique()]\n",
        "column_age = ['Age_' + x for x in df[\"Age\"].unique()]\n",
        "column_store = ['StoreName_' + x for x in df[\"StoreName\"].unique()]\n",
        "\n",
        "df = pd.get_dummies(df, columns=['BoxSize', \"Age\", 'StoreName'])"
      ]
    },
    {
      "cell_type": "code",
      "execution_count": 12,
      "metadata": {},
      "outputs": [],
      "source": [
        "y_name = \"LeaveTime\"\n",
        "\n",
        "X = df.drop(y_name, axis=1)\n",
        "y = df[y_name]\n",
        "\n",
        "train_size_analyse = 0.15\n",
        "train_size_final = 0.8\n",
        "X_train, X_val, y_train, y_val = train_test_split(X, y,train_size=train_size_analyse, test_size=0.1, random_state=random_state)"
      ]
    },
    {
      "cell_type": "code",
      "execution_count": 13,
      "metadata": {},
      "outputs": [
        {
          "data": {
            "text/plain": [
              "['random_forest_model.joblib']"
            ]
          },
          "execution_count": 13,
          "metadata": {},
          "output_type": "execute_result"
        }
      ],
      "source": [
        "from sklearn.ensemble import RandomForestRegressor\n",
        "\n",
        "model = RandomForestRegressor(random_state=random_state, n_jobs=-1)  \n",
        "\n",
        "model.fit(X_train, y_train)\n",
        "\n",
        "joblib.dump(model, 'random_forest_model.joblib')"
      ]
    },
    {
      "cell_type": "code",
      "execution_count": 14,
      "metadata": {},
      "outputs": [
        {
          "name": "stdout",
          "output_type": "stream",
          "text": [
            "MSE: 85134.28876167793\n",
            "MAE: 144.88157932169094\n",
            "R²: 0.6627123023276995\n",
            "Random state: 1117\n",
            "Train size: (55647, 27)\n",
            "X: Index(['EnterTime', 'CustomerNumber', 'MaleNumber', 'FemaleNumber',\n",
            "       'Membership', 'BoxSize_Big box', 'BoxSize_Large box',\n",
            "       'BoxSize_Large box (no toilet)', 'BoxSize_Medium box',\n",
            "       'BoxSize_PARTY big box', 'BoxSize_PARTY big box ',\n",
            "       'BoxSize_PARTY in the big box', 'BoxSize_PARTY medium the box',\n",
            "       'BoxSize_PARTY small box', 'BoxSize_Presidential package',\n",
            "       'BoxSize_Small box', 'Age_19 Below', 'Age_20~29', 'Age_30~39',\n",
            "       'Age_40~49', 'Age_50 Above', 'StoreName_Jia yi', 'StoreName_Kaohsiung',\n",
            "       'StoreName_Lin Sheng', 'StoreName_SOGO Store', 'StoreName_Tao Yuan',\n",
            "       'StoreName_Zhong Hua Xin dian'],\n",
            "      dtype='object')\n",
            "y: LeaveTime\n",
            "EnterTime: 0.7695175292842484\n",
            "CustomerNumber: 0.051541071686660785\n",
            "FemaleNumber: 0.032309477262974756\n",
            "MaleNumber: 0.03203637578669294\n",
            "Membership: 0.013937394082063775\n",
            "StoreName_Lin Sheng: 0.012901622037671458\n",
            "Age_30~39: 0.009591855118287654\n",
            "StoreName_SOGO Store: 0.008101252312049688\n",
            "Age_20~29: 0.00790961452950535\n",
            "StoreName_Zhong Hua Xin dian: 0.007447875416102968\n",
            "StoreName_Tao Yuan: 0.007377783105971479\n",
            "Age_40~49: 0.007219254108933451\n",
            "BoxSize_Small box: 0.007215920952829163\n",
            "BoxSize_Medium box: 0.0063201901150142245\n",
            "StoreName_Kaohsiung: 0.004050148028094905\n",
            "StoreName_Jia yi: 0.004046923991082791\n",
            "Age_50 Above: 0.003853819979567248\n",
            "BoxSize_PARTY big box: 0.003688890251303897\n",
            "BoxSize_PARTY medium the box: 0.0029731938477730434\n",
            "BoxSize_PARTY in the big box: 0.0018895058605387389\n",
            "BoxSize_Big box: 0.0017339562779294328\n",
            "BoxSize_PARTY big box : 0.0016599852547766396\n",
            "BoxSize_PARTY small box: 0.0010308770153386207\n",
            "Age_19 Below: 0.000857508152375919\n",
            "BoxSize_Large box: 0.000610815707022538\n",
            "BoxSize_Presidential package: 0.00011551275005351993\n",
            "BoxSize_Large box (no toilet): 6.164708513650699e-05\n"
          ]
        }
      ],
      "source": [
        "# Import necessary metrics from scikit-learn\n",
        "from sklearn.metrics import mean_squared_error, mean_absolute_error, r2_score\n",
        "import numpy as np\n",
        "\n",
        "# y_pred is the prediction of your model on the validation dataset\n",
        "y_pred = model.predict(X_val)\n",
        "\n",
        "# Calculate regression metrics\n",
        "mse = mean_squared_error(y_val, y_pred)  # Calculate Mean Squared Error\n",
        "mae = mean_absolute_error(y_val, y_pred) # Calculate Mean Absolute Error\n",
        "r2 = r2_score(y_val, y_pred)             # Calculate R-squared score\n",
        "\n",
        "# Print the metrics\n",
        "print(f\"MSE: {mse}\")\n",
        "print(f\"MAE: {mae}\")\n",
        "print(f\"R²: {r2}\")\n",
        "\n",
        "# Print additional model and training information\n",
        "print(f\"Random state: {random_state}\")    # Print the random state used for reproducibility\n",
        "print(f\"Train size: {X_train.shape}\")     # Print the size of the training set\n",
        "print(f\"X: {X_train.columns}\")            # Print the names of the features\n",
        "print(f\"y: {y_name}\")                     # Print the name of the target variable\n",
        "\n",
        "# Feature importance calculation and display\n",
        "importances = model.feature_importances_\n",
        "indices = np.argsort(importances)[::-1]   # Sort feature importances in descending order\n",
        "\n",
        "# Print the importance of each feature\n",
        "for f in range(X.shape[1]):\n",
        "    print(f\"{X.columns[indices[f]]}: {importances[indices[f]]}\")\n"
      ]
    },
    {
      "cell_type": "code",
      "execution_count": 15,
      "metadata": {},
      "outputs": [
        {
          "name": "stdout",
          "output_type": "stream",
          "text": [
            "['EnterTime', 'CustomerNumber', 'MaleNumber', 'FemaleNumber', 'Membership', 'StoreName_Lin Sheng']\n"
          ]
        }
      ],
      "source": [
        "importance_min = 0.01\n",
        "\n",
        "# Get the names of the top N features\n",
        "features_importantes = [X.columns[i] for i in range(len(importances)) if importances[i] > importance_min]\n",
        "\n",
        "print(features_importantes)"
      ]
    },
    {
      "cell_type": "code",
      "execution_count": 16,
      "metadata": {},
      "outputs": [],
      "source": [
        "X = X[features_importantes]\n",
        "X_train, X_val, y_train, y_val = train_test_split(X, y,train_size=train_size_final, test_size=0.1, random_state=random_state)"
      ]
    },
    {
      "cell_type": "code",
      "execution_count": 17,
      "metadata": {},
      "outputs": [
        {
          "data": {
            "text/plain": [
              "['random_forest_model.joblib']"
            ]
          },
          "execution_count": 17,
          "metadata": {},
          "output_type": "execute_result"
        }
      ],
      "source": [
        "from sklearn.ensemble import RandomForestRegressor\n",
        "\n",
        "model = RandomForestRegressor(random_state=random_state, n_jobs=-1)  \n",
        "\n",
        "model.fit(X_train, y_train)\n",
        "\n",
        "joblib.dump(model, 'random_forest_model.joblib')"
      ]
    },
    {
      "cell_type": "code",
      "execution_count": 18,
      "metadata": {},
      "outputs": [
        {
          "name": "stdout",
          "output_type": "stream",
          "text": [
            "MSE: 94213.67567785141\n",
            "MAE: 149.96950845093156\n",
            "R²: 0.6267413022315473\n",
            "Random state: 1117\n",
            "Train size: (296787, 6)\n",
            "X: Index(['EnterTime', 'CustomerNumber', 'MaleNumber', 'FemaleNumber',\n",
            "       'Membership', 'StoreName_Lin Sheng'],\n",
            "      dtype='object')\n",
            "y: LeaveTime\n",
            "EnterTime: 0.8613446819383009\n",
            "CustomerNumber: 0.04947355454161852\n",
            "FemaleNumber: 0.032040382850634125\n",
            "MaleNumber: 0.031038503331250196\n",
            "StoreName_Lin Sheng: 0.014695485814038352\n",
            "Membership: 0.011407391524157862\n"
          ]
        }
      ],
      "source": [
        "# Import necessary metrics from scikit-learn\n",
        "from sklearn.metrics import mean_squared_error, mean_absolute_error, r2_score\n",
        "import numpy as np\n",
        "\n",
        "# y_pred is the prediction of your model on the validation dataset\n",
        "y_pred = model.predict(X_val)\n",
        "\n",
        "# Calculate regression metrics\n",
        "mse = mean_squared_error(y_val, y_pred)  # Calculate Mean Squared Error\n",
        "mae = mean_absolute_error(y_val, y_pred) # Calculate Mean Absolute Error\n",
        "r2 = r2_score(y_val, y_pred)             # Calculate R-squared score\n",
        "\n",
        "# Print the metrics\n",
        "print(f\"MSE: {mse}\")\n",
        "print(f\"MAE: {mae}\")\n",
        "print(f\"R²: {r2}\")\n",
        "\n",
        "# Print additional model and training information\n",
        "print(f\"Random state: {random_state}\")    # Print the random state used for reproducibility\n",
        "print(f\"Train size: {X_train.shape}\")     # Print the size of the training set\n",
        "print(f\"X: {X_train.columns}\")            # Print the names of the features\n",
        "print(f\"y: {y_name}\")                     # Print the name of the target variable\n",
        "\n",
        "# Feature importance calculation and display\n",
        "importances = model.feature_importances_\n",
        "indices = np.argsort(importances)[::-1]   # Sort feature importances in descending order\n",
        "\n",
        "# Print the importance of each feature\n",
        "for f in range(X.shape[1]):\n",
        "    print(f\"{X.columns[indices[f]]}: {importances[indices[f]]}\")\n"
      ]
    },
    {
      "cell_type": "markdown",
      "metadata": {},
      "source": [
        "## Membership"
      ]
    },
    {
      "cell_type": "code",
      "execution_count": 19,
      "metadata": {},
      "outputs": [],
      "source": [
        "# Reset the dataframe\n",
        "df = pd.read_feather('./Customerbehavior_Final.feather')\n",
        "\n",
        "# Drop duplicate \n",
        "df.drop_duplicates(subset='UniqueID', keep='first', inplace=True)\n",
        "\n",
        "df.drop([\"UniqueID\", \"MealType\", \"MealSpending\", \"OrderTime\", \"BillCode\"], axis=1, inplace=True)\n",
        "\n",
        "df[\"EnterTime\"] = df['EnterTime'].dt.hour * 60 + df['EnterTime'].dt.minute\n",
        "df[\"LeaveTime\"] = df['LeaveTime'].dt.hour * 60 + df['LeaveTime'].dt.minute\n",
        "\n",
        "column_box = ['BoxSize_' + x for x in df[\"BoxSize\"].unique()]\n",
        "column_age = ['Age_' + x for x in df[\"Age\"].unique()]\n",
        "column_store = ['StoreName_' + x for x in df[\"StoreName\"].unique()]\n",
        "\n",
        "df = pd.get_dummies(df, columns=['BoxSize', \"Age\", 'StoreName'])"
      ]
    },
    {
      "cell_type": "code",
      "execution_count": 20,
      "metadata": {},
      "outputs": [],
      "source": [
        "y_name = \"Membership\"\n",
        "\n",
        "X = df.drop(y_name, axis=1)\n",
        "y = df[y_name]\n",
        "\n",
        "train_size_analyse = 0.15\n",
        "train_size_final = 0.8\n",
        "X_train, X_val, y_train, y_val = train_test_split(X, y,train_size=train_size_analyse, test_size=0.1, random_state=random_state)"
      ]
    },
    {
      "cell_type": "code",
      "execution_count": 21,
      "metadata": {},
      "outputs": [
        {
          "data": {
            "text/plain": [
              "['random_forest_model.joblib']"
            ]
          },
          "execution_count": 21,
          "metadata": {},
          "output_type": "execute_result"
        }
      ],
      "source": [
        "from sklearn.ensemble import RandomForestClassifier\n",
        "\n",
        "model = RandomForestClassifier(random_state=random_state, n_jobs=-1)  \n",
        "\n",
        "model.fit(X_train, y_train)\n",
        "\n",
        "joblib.dump(model, 'random_forest_model.joblib')"
      ]
    },
    {
      "cell_type": "code",
      "execution_count": 22,
      "metadata": {},
      "outputs": [
        {
          "name": "stdout",
          "output_type": "stream",
          "text": [
            "Accuracy: 0.7865980215100138\n",
            "Classification Report:\n",
            "              precision    recall  f1-score   support\n",
            "\n",
            "           0       0.79      0.89      0.84     23192\n",
            "           1       0.78      0.61      0.68     13907\n",
            "\n",
            "    accuracy                           0.79     37099\n",
            "   macro avg       0.78      0.75      0.76     37099\n",
            "weighted avg       0.79      0.79      0.78     37099\n",
            "\n",
            "Random state: 1117\n",
            "Train size: (55647, 29)\n",
            "X: Index(['EnterTime', 'LeaveTime', 'BoxSpending', 'CustomerNumber', 'MaleNumber',\n",
            "       'FemaleNumber', 'Duration(hours)', 'BoxSize_Big box',\n",
            "       'BoxSize_Large box', 'BoxSize_Large box (no toilet)',\n",
            "       'BoxSize_Medium box', 'BoxSize_PARTY big box', 'BoxSize_PARTY big box ',\n",
            "       'BoxSize_PARTY in the big box', 'BoxSize_PARTY medium the box',\n",
            "       'BoxSize_PARTY small box', 'BoxSize_Presidential package',\n",
            "       'BoxSize_Small box', 'Age_19 Below', 'Age_20~29', 'Age_30~39',\n",
            "       'Age_40~49', 'Age_50 Above', 'StoreName_Jia yi', 'StoreName_Kaohsiung',\n",
            "       'StoreName_Lin Sheng', 'StoreName_SOGO Store', 'StoreName_Tao Yuan',\n",
            "       'StoreName_Zhong Hua Xin dian'],\n",
            "      dtype='object')\n",
            "y: Membership\n",
            "BoxSpending: 0.2705466571119565\n",
            "LeaveTime: 0.13771487933059576\n",
            "EnterTime: 0.1364709362880591\n",
            "Duration(hours): 0.13552035661449952\n",
            "CustomerNumber: 0.0609492608242169\n",
            "FemaleNumber: 0.04936309650209073\n",
            "MaleNumber: 0.048903865474984404\n",
            "StoreName_Tao Yuan: 0.022116275301562262\n",
            "StoreName_Jia yi: 0.021902535252859706\n",
            "StoreName_Zhong Hua Xin dian: 0.013340134614967334\n",
            "StoreName_Kaohsiung: 0.012904454922141331\n",
            "StoreName_Lin Sheng: 0.011509181468023858\n",
            "Age_30~39: 0.010553225390145532\n",
            "BoxSize_Small box: 0.00958898416786819\n",
            "Age_20~29: 0.009379421535436867\n",
            "StoreName_SOGO Store: 0.008801307208960319\n",
            "BoxSize_Medium box: 0.007541369213447085\n",
            "Age_40~49: 0.006655840673425565\n",
            "BoxSize_PARTY big box: 0.005077517845034647\n",
            "Age_19 Below: 0.004219006754617879\n",
            "BoxSize_PARTY medium the box: 0.004127473193572093\n",
            "Age_50 Above: 0.004079672312208049\n",
            "BoxSize_PARTY big box : 0.002490109530439373\n",
            "BoxSize_PARTY in the big box: 0.0021153826887163056\n",
            "BoxSize_Big box: 0.0016729197185040086\n",
            "BoxSize_PARTY small box: 0.0013362899961014583\n",
            "BoxSize_Large box: 0.0009150322838167291\n",
            "BoxSize_Presidential package: 0.00012170654158458092\n",
            "BoxSize_Large box (no toilet): 8.310724016403408e-05\n"
          ]
        }
      ],
      "source": [
        "from sklearn.metrics import accuracy_score, classification_report\n",
        "import numpy as np\n",
        "\n",
        "y_pred = model.predict(X_val)\n",
        "\n",
        "# Calculate accuracy and classification report\n",
        "accuracy = accuracy_score(y_val, y_pred)\n",
        "class_report = classification_report(y_val, y_pred)\n",
        "\n",
        "# Print the accuracy and classification report\n",
        "print(f\"Accuracy: {accuracy}\")\n",
        "print(\"Classification Report:\")\n",
        "print(class_report)\n",
        "\n",
        "# Print additional model and training information\n",
        "print(f\"Random state: {random_state}\")              # Print the random state used for reproducibility\n",
        "print(f\"Train size: {X_train.shape}\")          # Print the size of the training dataset\n",
        "print(f\"X: {X_train.columns}\")                      # Print the names of the features\n",
        "print(f\"y: {y_name}\")                               # Print the name of the target variable\n",
        "\n",
        "# Feature importance calculation and display\n",
        "importances = model.feature_importances_\n",
        "indices = np.argsort(importances)[::-1]             # Sort feature importances in descending order\n",
        "\n",
        "# Print the importance of each feature\n",
        "for f in range(X.shape[1]):\n",
        "    print(f\"{X.columns[indices[f]]}: {importances[indices[f]]}\")\n"
      ]
    },
    {
      "cell_type": "code",
      "execution_count": 23,
      "metadata": {},
      "outputs": [
        {
          "name": "stdout",
          "output_type": "stream",
          "text": [
            "['EnterTime', 'LeaveTime', 'BoxSpending', 'CustomerNumber', 'Duration(hours)']\n"
          ]
        }
      ],
      "source": [
        "importance_min = 0.05\n",
        "\n",
        "# Get the names of the top N features\n",
        "features_importantes = [X.columns[i] for i in range(len(importances)) if importances[i] > importance_min]\n",
        "\n",
        "print(features_importantes)"
      ]
    },
    {
      "cell_type": "code",
      "execution_count": 24,
      "metadata": {},
      "outputs": [],
      "source": [
        "X = df[features_importantes]\n",
        "y = df[y_name]\n",
        "\n",
        "X_train, X_val, y_train, y_val = train_test_split(X, y,train_size=train_size_final, test_size=0.1, random_state=random_state)"
      ]
    },
    {
      "cell_type": "code",
      "execution_count": 25,
      "metadata": {},
      "outputs": [
        {
          "data": {
            "text/plain": [
              "['random_forest_model.joblib']"
            ]
          },
          "execution_count": 25,
          "metadata": {},
          "output_type": "execute_result"
        }
      ],
      "source": [
        "model = RandomForestClassifier(random_state=random_state, n_jobs=-1)  \n",
        "\n",
        "model.fit(X_train, y_train)\n",
        "\n",
        "joblib.dump(model, 'random_forest_model.joblib')"
      ]
    },
    {
      "cell_type": "code",
      "execution_count": 26,
      "metadata": {},
      "outputs": [
        {
          "name": "stdout",
          "output_type": "stream",
          "text": [
            "Accuracy: 0.8592953987978112\n",
            "Classification Report:\n",
            "              precision    recall  f1-score   support\n",
            "\n",
            "           0       0.87      0.91      0.89     23192\n",
            "           1       0.84      0.77      0.80     13907\n",
            "\n",
            "    accuracy                           0.86     37099\n",
            "   macro avg       0.86      0.84      0.85     37099\n",
            "weighted avg       0.86      0.86      0.86     37099\n",
            "\n",
            "Random state: 1117\n",
            "Train size: (296787, 5)\n",
            "X: Index(['EnterTime', 'LeaveTime', 'BoxSpending', 'CustomerNumber',\n",
            "       'Duration(hours)'],\n",
            "      dtype='object')\n",
            "y: Membership\n",
            "BoxSpending: 0.5111520289729243\n",
            "LeaveTime: 0.1466438008900611\n",
            "EnterTime: 0.14236898464183656\n",
            "Duration(hours): 0.12500308570003782\n",
            "CustomerNumber: 0.07483209979514027\n"
          ]
        }
      ],
      "source": [
        "from sklearn.metrics import accuracy_score, classification_report\n",
        "import numpy as np\n",
        "\n",
        "y_pred = model.predict(X_val)\n",
        "\n",
        "# Calculate accuracy and classification report\n",
        "accuracy = accuracy_score(y_val, y_pred)\n",
        "class_report = classification_report(y_val, y_pred)\n",
        "\n",
        "# Print the accuracy and classification report\n",
        "print(f\"Accuracy: {accuracy}\")\n",
        "print(\"Classification Report:\")\n",
        "print(class_report)\n",
        "\n",
        "# Print additional model and training information\n",
        "print(f\"Random state: {random_state}\")              # Print the random state used for reproducibility\n",
        "print(f\"Train size: {X_train.shape}\")          # Print the size of the training dataset\n",
        "print(f\"X: {X_train.columns}\")                      # Print the names of the features\n",
        "print(f\"y: {y_name}\")                               # Print the name of the target variable\n",
        "\n",
        "# Feature importance calculation and display\n",
        "importances = model.feature_importances_\n",
        "indices = np.argsort(importances)[::-1]             # Sort feature importances in descending order\n",
        "\n",
        "# Print the importance of each feature\n",
        "for f in range(X.shape[1]):\n",
        "    print(f\"{X.columns[indices[f]]}: {importances[indices[f]]}\")\n"
      ]
    }
  ],
  "metadata": {
    "colab": {
      "provenance": [],
      "toc_visible": true
    },
    "kernelspec": {
      "display_name": "venv",
      "language": "python",
      "name": "python3"
    },
    "language_info": {
      "codemirror_mode": {
        "name": "ipython",
        "version": 3
      },
      "file_extension": ".py",
      "mimetype": "text/x-python",
      "name": "python",
      "nbconvert_exporter": "python",
      "pygments_lexer": "ipython3",
      "version": "3.10.12"
    }
  },
  "nbformat": 4,
  "nbformat_minor": 0
}
